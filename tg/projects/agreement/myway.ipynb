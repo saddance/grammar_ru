{
 "cells": [
  {
   "cell_type": "code",
   "execution_count": 4,
   "outputs": [],
   "source": [
    "import pandas as pd\n",
    "import numpy as np\n",
    "from tqdm.auto import tqdm\n",
    "import spacy"
   ],
   "metadata": {
    "collapsed": false,
    "ExecuteTime": {
     "end_time": "2023-11-14T18:36:37.118067868Z",
     "start_time": "2023-11-14T18:36:36.318404285Z"
    }
   },
   "id": "8789136f565357e8"
  },
  {
   "cell_type": "code",
   "execution_count": 5,
   "outputs": [],
   "source": [
    "from tg.grammar_ru import Loc\n",
    "from pathlib import Path\n",
    "\n",
    "CORPUS_NAMES = [\n",
    "    \"books.base.zip\",\n",
    "    \"pub.base.zip\"\n",
    "]\n",
    "#TODO: add smth else?\n",
    "\n",
    "CORPUS_LIST = [Loc.corpus_path/corpus_name for corpus_name in CORPUS_NAMES]"
   ],
   "metadata": {
    "collapsed": false,
    "ExecuteTime": {
     "end_time": "2023-11-14T18:36:43.215075722Z",
     "start_time": "2023-11-14T18:36:43.207368705Z"
    }
   },
   "id": "2073980de532868b"
  },
  {
   "cell_type": "code",
   "execution_count": 6,
   "outputs": [
    {
     "data": {
      "text/plain": "[PosixPath('/home/matvey/PycharmProjects/grammar_ru/data-cache/corpus/books.base.zip'),\n PosixPath('/home/matvey/PycharmProjects/grammar_ru/data-cache/corpus/pub.base.zip')]"
     },
     "execution_count": 6,
     "metadata": {},
     "output_type": "execute_result"
    }
   ],
   "source": [
    "CORPUS_LIST"
   ],
   "metadata": {
    "collapsed": false,
    "ExecuteTime": {
     "end_time": "2023-11-14T18:36:44.690087974Z",
     "start_time": "2023-11-14T18:36:44.682321271Z"
    }
   },
   "id": "f316f14de3d22836"
  },
  {
   "cell_type": "code",
   "execution_count": 11,
   "outputs": [],
   "source": [
    "from tg.grammar_ru import CorpusReader\n",
    "from yo_fluq_ds import *\n",
    "from tg.grammar_ru.common import DataBundle, Separator\n",
    "\n",
    "corpus_data = CorpusReader.read_frames_from_several_corpora(CORPUS_LIST)"
   ],
   "metadata": {
    "collapsed": false,
    "ExecuteTime": {
     "end_time": "2023-11-14T18:38:51.475329352Z",
     "start_time": "2023-11-14T18:38:50.867872411Z"
    }
   },
   "id": "be76c1b6a12966f6"
  },
  {
   "cell_type": "code",
   "execution_count": 19,
   "outputs": [
    {
     "name": "stderr",
     "output_type": "stream",
     "text": [
      "100%|██████████| 69416/69416 [13:55<00:00, 83.05it/s] \n"
     ]
    }
   ],
   "source": [
    "import math\n",
    "\n",
    "from tg.grammar_ru.corpus import BucketCorpusBalancer\n",
    "\n",
    "LOG_BASE = math.e\n",
    "BUCKET_PATH = Loc.corpus_path/\"prepare/buckets/buckets.parquet\"\n",
    "BucketCorpusBalancer.build_buckets_frame(CORPUS_LIST, BUCKET_PATH, LOG_BASE)"
   ],
   "metadata": {
    "collapsed": false,
    "ExecuteTime": {
     "end_time": "2023-11-14T18:56:08.404840678Z",
     "start_time": "2023-11-14T18:42:12.051891116Z"
    }
   },
   "id": "2f9a7149169d5d92"
  },
  {
   "cell_type": "code",
   "execution_count": 21,
   "outputs": [
    {
     "data": {
      "text/plain": "                                                          sentences  \\\nbucket                                                                \nbooks.base.zip/0  [2105037, 2635119, 2635122, 2930082, 2930089, ...   \nbooks.base.zip/1  [7, 8, 11, 15, 10711, 10730, 10731, 10745, 107...   \nbooks.base.zip/2  [1, 2, 6, 9, 12, 14, 16, 17, 18, 19, 20, 21, 2...   \nbooks.base.zip/3  [0, 3, 4, 5, 10, 13, 10712, 10716, 10718, 1072...   \nbooks.base.zip/4  [10715, 10717, 10724, 10744, 10777, 10793, 107...   \nbooks.base.zip/5  [189579, 784022, 2391783, 5783820, 5998276, 67...   \npub.base.zip/0    [51423, 71661, 461963, 1207024, 1404782, 25887...   \npub.base.zip/1    [24, 33, 34, 40, 52, 53, 64, 11030, 31091, 311...   \npub.base.zip/2    [3, 5, 6, 8, 10, 14, 18, 21, 25, 26, 28, 30, 3...   \npub.base.zip/3    [0, 1, 2, 4, 7, 9, 11, 13, 15, 16, 17, 19, 20,...   \npub.base.zip/4    [12, 31092, 132279, 132283, 132285, 132289, 13...   \npub.base.zip/5    [875326, 2421677, 3109534, 4275054, 4523347, 5...   \npub.base.zip/6    [104900599, 342782477, 649801710, 654923153, 6...   \n\n                  bucket_size  \nbucket                         \nbooks.base.zip/0          129  \nbooks.base.zip/1        90591  \nbooks.base.zip/2       434207  \nbooks.base.zip/3       355499  \nbooks.base.zip/4        23177  \nbooks.base.zip/5           65  \npub.base.zip/0          18308  \npub.base.zip/1          60391  \npub.base.zip/2         415067  \npub.base.zip/3         820561  \npub.base.zip/4         156624  \npub.base.zip/5           1127  \npub.base.zip/6              6  ",
      "text/html": "<div>\n<style scoped>\n    .dataframe tbody tr th:only-of-type {\n        vertical-align: middle;\n    }\n\n    .dataframe tbody tr th {\n        vertical-align: top;\n    }\n\n    .dataframe thead th {\n        text-align: right;\n    }\n</style>\n<table border=\"1\" class=\"dataframe\">\n  <thead>\n    <tr style=\"text-align: right;\">\n      <th></th>\n      <th>sentences</th>\n      <th>bucket_size</th>\n    </tr>\n    <tr>\n      <th>bucket</th>\n      <th></th>\n      <th></th>\n    </tr>\n  </thead>\n  <tbody>\n    <tr>\n      <th>books.base.zip/0</th>\n      <td>[2105037, 2635119, 2635122, 2930082, 2930089, ...</td>\n      <td>129</td>\n    </tr>\n    <tr>\n      <th>books.base.zip/1</th>\n      <td>[7, 8, 11, 15, 10711, 10730, 10731, 10745, 107...</td>\n      <td>90591</td>\n    </tr>\n    <tr>\n      <th>books.base.zip/2</th>\n      <td>[1, 2, 6, 9, 12, 14, 16, 17, 18, 19, 20, 21, 2...</td>\n      <td>434207</td>\n    </tr>\n    <tr>\n      <th>books.base.zip/3</th>\n      <td>[0, 3, 4, 5, 10, 13, 10712, 10716, 10718, 1072...</td>\n      <td>355499</td>\n    </tr>\n    <tr>\n      <th>books.base.zip/4</th>\n      <td>[10715, 10717, 10724, 10744, 10777, 10793, 107...</td>\n      <td>23177</td>\n    </tr>\n    <tr>\n      <th>books.base.zip/5</th>\n      <td>[189579, 784022, 2391783, 5783820, 5998276, 67...</td>\n      <td>65</td>\n    </tr>\n    <tr>\n      <th>pub.base.zip/0</th>\n      <td>[51423, 71661, 461963, 1207024, 1404782, 25887...</td>\n      <td>18308</td>\n    </tr>\n    <tr>\n      <th>pub.base.zip/1</th>\n      <td>[24, 33, 34, 40, 52, 53, 64, 11030, 31091, 311...</td>\n      <td>60391</td>\n    </tr>\n    <tr>\n      <th>pub.base.zip/2</th>\n      <td>[3, 5, 6, 8, 10, 14, 18, 21, 25, 26, 28, 30, 3...</td>\n      <td>415067</td>\n    </tr>\n    <tr>\n      <th>pub.base.zip/3</th>\n      <td>[0, 1, 2, 4, 7, 9, 11, 13, 15, 16, 17, 19, 20,...</td>\n      <td>820561</td>\n    </tr>\n    <tr>\n      <th>pub.base.zip/4</th>\n      <td>[12, 31092, 132279, 132283, 132285, 132289, 13...</td>\n      <td>156624</td>\n    </tr>\n    <tr>\n      <th>pub.base.zip/5</th>\n      <td>[875326, 2421677, 3109534, 4275054, 4523347, 5...</td>\n      <td>1127</td>\n    </tr>\n    <tr>\n      <th>pub.base.zip/6</th>\n      <td>[104900599, 342782477, 649801710, 654923153, 6...</td>\n      <td>6</td>\n    </tr>\n  </tbody>\n</table>\n</div>"
     },
     "execution_count": 21,
     "metadata": {},
     "output_type": "execute_result"
    }
   ],
   "source": [
    "pd.read_parquet(BUCKET_PATH)"
   ],
   "metadata": {
    "collapsed": false,
    "ExecuteTime": {
     "end_time": "2023-11-14T19:21:43.619814001Z",
     "start_time": "2023-11-14T19:21:43.569334327Z"
    }
   },
   "id": "b0d197f0e6d98444"
  },
  {
   "cell_type": "code",
   "execution_count": 24,
   "outputs": [],
   "source": [
    "BALANCED_PATH = Loc.corpus_path/\"prepare/balanced/books&pub_tiny_balanced.zip\""
   ],
   "metadata": {
    "collapsed": false,
    "ExecuteTime": {
     "end_time": "2023-11-14T19:22:04.809844242Z",
     "start_time": "2023-11-14T19:22:04.766367986Z"
    }
   },
   "id": "2955bfe3016fe10a"
  },
  {
   "cell_type": "code",
   "execution_count": 28,
   "outputs": [
    {
     "name": "stderr",
     "output_type": "stream",
     "text": [
      "/tmp/ipykernel_13633/1772718846.py:4: DeprecationWarning: Call to deprecated function (or staticmethod) read_data. (Use CorpusReader.read_frames_from_several_corpora)\n",
      "  for frame in read_data(BALANCED_PATH):\n",
      "100%|██████████| 2/2 [00:00<00:00, 56.40it/s]"
     ]
    },
    {
     "name": "stdout",
     "output_type": "stream",
     "text": [
      "49996\n",
      "33734\n"
     ]
    },
    {
     "name": "stderr",
     "output_type": "stream",
     "text": [
      "\n"
     ]
    },
    {
     "data": {
      "text/plain": "defaultdict(int, {})"
     },
     "execution_count": 28,
     "metadata": {},
     "output_type": "execute_result"
    }
   ],
   "source": [
    "from tg.grammar_ru.corpus.corpus_reader import read_data\n",
    "from collections import defaultdict\n",
    "lengths = defaultdict(int)\n",
    "for frame in read_data(BALANCED_PATH):\n",
    "    print(len(frame))\n",
    "\n",
    "lengths"
   ],
   "metadata": {
    "collapsed": false,
    "ExecuteTime": {
     "end_time": "2023-11-14T19:22:40.622114555Z",
     "start_time": "2023-11-14T19:22:40.579244001Z"
    }
   },
   "id": "a1bb43285cbfa426"
  },
  {
   "cell_type": "code",
   "execution_count": null,
   "outputs": [],
   "source": [],
   "metadata": {
    "collapsed": false
   },
   "id": "226e6e1b893c4093"
  }
 ],
 "metadata": {
  "kernelspec": {
   "display_name": "Python 3",
   "language": "python",
   "name": "python3"
  },
  "language_info": {
   "codemirror_mode": {
    "name": "ipython",
    "version": 2
   },
   "file_extension": ".py",
   "mimetype": "text/x-python",
   "name": "python",
   "nbconvert_exporter": "python",
   "pygments_lexer": "ipython2",
   "version": "2.7.6"
  }
 },
 "nbformat": 4,
 "nbformat_minor": 5
}
