{
 "cells": [
  {
   "cell_type": "code",
   "execution_count": null,
   "outputs": [],
   "source": [
    "import pandas as pd\n",
    "import numpy as np"
   ],
   "metadata": {
    "collapsed": false
   },
   "id": "6cf1b34f93b29060"
  },
  {
   "cell_type": "markdown",
   "source": [
    "Инициализация алгоритмов"
   ],
   "metadata": {
    "collapsed": false
   },
   "id": "892724af61a07d21"
  },
  {
   "cell_type": "code",
   "execution_count": null,
   "id": "initial_id",
   "metadata": {
    "collapsed": true
   },
   "outputs": [],
   "source": [
    "from tg.grammar_ru.algorithms.spellcheck import SpellcheckAlgorithm\n",
    "from tg.grammar_ru.algorithms.repetitions import RepetitionsAlgorithm\n",
    "from tg.grammar_ru.algorithms.architecture import NlpAlgorithm\n",
    "\n",
    "spell_check = SpellcheckAlgorithm()\n",
    "repetitions = RepetitionsAlgorithm()"
   ]
  },
  {
   "cell_type": "markdown",
   "source": [
    "Текст для проверки"
   ],
   "metadata": {
    "collapsed": false
   },
   "id": "bd56d5afe44957dc"
  },
  {
   "cell_type": "code",
   "execution_count": null,
   "outputs": [],
   "source": [
    "sample_text = 'Привет как дела? Вот туть ест ашибочки в нописании слоф, харашо? А вот тут есть повторение повторение!!!'"
   ],
   "metadata": {
    "collapsed": false
   },
   "id": "abf713c96de14c09"
  },
  {
   "cell_type": "code",
   "execution_count": null,
   "outputs": [],
   "source": [
    "from dataclasses import dataclass\n",
    "\n",
    "@dataclass\n",
    "class CheckedText:\n",
    "    text: str\n",
    "    errors_df: pd.DataFrame"
   ],
   "metadata": {
    "collapsed": false
   },
   "id": "ebac616808b92cb1"
  },
  {
   "cell_type": "markdown",
   "source": [
    "Находим все ошибки в тексе, запустив на нем все алгоритмы"
   ],
   "metadata": {
    "collapsed": false
   },
   "id": "96c8824e39fd27b9"
  },
  {
   "cell_type": "code",
   "execution_count": null,
   "outputs": [],
   "source": [
    "from tg.grammar_ru import Separator\n",
    "\n",
    "def check_text_for_grammar_errors(text: str) -> CheckedText:\n",
    "    data_bundle = Separator.build_bundle(text)\n",
    "    index = data_bundle.src.index\n",
    "    \n",
    "    grammar_ru_result = NlpAlgorithm.combine_algorithms(data_bundle, index, spell_check, repetitions)\n",
    "    return CheckedText(text=sample_text, errors_df=grammar_ru_result)"
   ],
   "metadata": {
    "collapsed": false
   },
   "id": "c77c2ea9e3ed44a4"
  },
  {
   "cell_type": "code",
   "execution_count": null,
   "outputs": [],
   "source": [
    "checked_text = check_text_for_grammar_errors(text=sample_text)\n",
    "checked_text.errors_df"
   ],
   "metadata": {
    "collapsed": false
   },
   "id": "696fbe68b45328bd"
  },
  {
   "cell_type": "markdown",
   "source": [
    "Визуализация ошибок по типу"
   ],
   "metadata": {
    "collapsed": false
   },
   "id": "dea9bc355f95cad6"
  },
  {
   "cell_type": "code",
   "execution_count": null,
   "outputs": [],
   "source": [
    "from IPython.core.display import HTML\n",
    "\n",
    "def visualize_errors(checked_text: CheckedText) -> HTML:\n",
    "    separated_text = Separator.separate_string(checked_text.text)\n",
    "    merged_df = separated_text.merge(checked_text.errors_df[\"error_type\"], left_on='word_id', right_index=True)\n",
    "    return Separator.Viewer().highlight(column_name=\"error_type\", value_to_color='auto').to_html_display(merged_df)"
   ],
   "metadata": {
    "collapsed": false
   },
   "id": "df0aa130250b5443"
  },
  {
   "cell_type": "code",
   "execution_count": null,
   "outputs": [],
   "source": [
    "visualize_errors(checked_text)"
   ],
   "metadata": {
    "collapsed": false
   },
   "id": "89602c1c7e763513"
  },
  {
   "cell_type": "markdown",
   "source": [
    "Исправление ошибок в разделенном тексте"
   ],
   "metadata": {
    "collapsed": false
   },
   "id": "e71f9fcd9c6b0946"
  },
  {
   "cell_type": "code",
   "execution_count": null,
   "outputs": [],
   "source": [
    "from tg.grammar_ru.algorithms.architecture import ErrorTypes\n",
    "\n",
    "def correct_grammar_errors(checked_text: CheckedText, /, errors_filter: list[ErrorTypes] | None = None) -> pd.DataFrame:\n",
    "    separated_text = Separator.separate_string(checked_text.text)\n",
    "    merged_df = separated_text.merge(checked_text.errors_df[[\"error_type\", \"suggest\"]], left_on='word_id', right_index=True)\n",
    "    \n",
    "    def correct_error(word: str, error_type: ErrorTypes, suggest: list[str] | None) -> str:\n",
    "        if errors_filter is not None and error_type not in errors_filter:\n",
    "            return word\n",
    "        \n",
    "        if suggest is None:\n",
    "            return f\"~{word}~\"\n",
    "        \n",
    "        return suggest[0]\n",
    "    \n",
    "    has_error = ~merged_df['error_type'].isnull()\n",
    "    merged_df.loc[has_error, \"word\"] = merged_df.loc[has_error, [\"word\", \"error_type\", \"suggest\"]].apply(lambda x: correct_error(*x), axis=1)\n",
    "    return merged_df"
   ],
   "metadata": {
    "collapsed": false
   },
   "id": "a76d78bd3cc54901"
  },
  {
   "cell_type": "code",
   "execution_count": null,
   "outputs": [],
   "source": [
    "correct_grammar_errors(checked_text, errors_filter=[ErrorTypes.Stylistic, ErrorTypes.Orthographic])"
   ],
   "metadata": {
    "collapsed": false
   },
   "id": "590fa212a54c43d6"
  },
  {
   "cell_type": "markdown",
   "source": [
    "### end-to-end исправление ошибок"
   ],
   "metadata": {
    "collapsed": false
   },
   "id": "db1fb0afa67ff5a2"
  },
  {
   "cell_type": "code",
   "execution_count": null,
   "outputs": [],
   "source": [
    "def correct_grammar_errors_in_text(text: str) -> str:\n",
    "    checked_text: CheckedText = check_text_for_grammar_errors(text)\n",
    "    corrected_text_df = correct_grammar_errors(checked_text)\n",
    "    return Separator.Viewer().to_text(corrected_text_df)"
   ],
   "metadata": {
    "collapsed": false
   },
   "id": "7cc31a18c6447630"
  },
  {
   "cell_type": "code",
   "execution_count": null,
   "outputs": [],
   "source": [
    "correct_grammar_errors_in_text(sample_text)"
   ],
   "metadata": {
    "collapsed": false
   },
   "id": "879e50a82d9b0721"
  },
  {
   "cell_type": "code",
   "execution_count": null,
   "outputs": [],
   "source": [],
   "metadata": {
    "collapsed": false
   },
   "id": "3b79af024223df13"
  }
 ],
 "metadata": {
  "kernelspec": {
   "display_name": "Python 3",
   "language": "python",
   "name": "python3"
  },
  "language_info": {
   "codemirror_mode": {
    "name": "ipython",
    "version": 2
   },
   "file_extension": ".py",
   "mimetype": "text/x-python",
   "name": "python",
   "nbconvert_exporter": "python",
   "pygments_lexer": "ipython2",
   "version": "2.7.6"
  }
 },
 "nbformat": 4,
 "nbformat_minor": 5
}
