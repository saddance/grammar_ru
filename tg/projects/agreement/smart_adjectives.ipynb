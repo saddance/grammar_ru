{
 "cells": [
  {
   "cell_type": "code",
   "execution_count": 1,
   "outputs": [],
   "source": [
    "import pandas as pd\n",
    "from tqdm.notebook import tqdm\n",
    "\n",
    "from tg.grammar_ru.features import PyMorphyFeaturizer"
   ],
   "metadata": {
    "collapsed": false,
    "ExecuteTime": {
     "end_time": "2023-12-25T20:51:44.352819513Z",
     "start_time": "2023-12-25T20:51:43.039955265Z"
    }
   },
   "id": "8789136f565357e8"
  },
  {
   "cell_type": "code",
   "execution_count": 2,
   "outputs": [],
   "source": [
    "from tg.grammar_ru import Loc\n",
    "\n",
    "CORPUS_NAMES = [\n",
    "    \"books.base.zip\",\n",
    "    \"pub.base.zip\",\n",
    "    \"lenta.base.zip\"\n",
    "]\n",
    "#TODO: add smth else?\n",
    "\n",
    "CORPUS_LIST = [Loc.corpus_path / corpus_name for corpus_name in CORPUS_NAMES]"
   ],
   "metadata": {
    "collapsed": false,
    "ExecuteTime": {
     "end_time": "2023-12-25T20:51:44.354960488Z",
     "start_time": "2023-12-25T20:51:44.353809555Z"
    }
   },
   "id": "891684db2f6aa208"
  },
  {
   "cell_type": "code",
   "execution_count": 3,
   "outputs": [],
   "source": [
    "from yo_fluq_ds import *\n",
    "from tg.grammar_ru import Separator\n",
    "from tg.grammar_ru.corpus.corpus_reader import CorpusReader"
   ],
   "metadata": {
    "collapsed": false,
    "ExecuteTime": {
     "end_time": "2023-12-25T20:51:44.358696036Z",
     "start_time": "2023-12-25T20:51:44.356137128Z"
    }
   },
   "id": "57f46adf755bc7c1"
  },
  {
   "cell_type": "code",
   "execution_count": null,
   "outputs": [],
   "source": [
    "viewer = Separator.Viewer()\n",
    "\n",
    "texts = list(CorpusReader.read_frames_from_several_corpora(CORPUS_LIST)\n",
    "             .feed(fluq.with_progress_bar(console=None))\n",
    "             .select(viewer.to_text)\n",
    "             )"
   ],
   "metadata": {
    "collapsed": false
   },
   "id": "1d96cec3b88ae8da"
  },
  {
   "cell_type": "code",
   "execution_count": null,
   "outputs": [],
   "source": [
    "import jsonlines\n",
    "\n",
    "with jsonlines.open('texts.jsonl', 'w') as write:\n",
    "    write.write_all(texts)"
   ],
   "metadata": {
    "collapsed": false
   },
   "id": "782342bcd1f52858"
  },
  {
   "cell_type": "code",
   "execution_count": 4,
   "outputs": [
    {
     "ename": "FileNotFoundError",
     "evalue": "[Errno 2] No such file or directory: 'texts.jsonl'",
     "output_type": "error",
     "traceback": [
      "\u001B[0;31m---------------------------------------------------------------------------\u001B[0m",
      "\u001B[0;31mFileNotFoundError\u001B[0m                         Traceback (most recent call last)",
      "Cell \u001B[0;32mIn[4], line 3\u001B[0m\n\u001B[1;32m      1\u001B[0m \u001B[38;5;28;01mimport\u001B[39;00m \u001B[38;5;21;01mjsonlines\u001B[39;00m\n\u001B[0;32m----> 3\u001B[0m \u001B[38;5;28;01mwith\u001B[39;00m \u001B[43mjsonlines\u001B[49m\u001B[38;5;241;43m.\u001B[39;49m\u001B[43mopen\u001B[49m\u001B[43m(\u001B[49m\u001B[38;5;124;43m'\u001B[39;49m\u001B[38;5;124;43mtexts.jsonl\u001B[39;49m\u001B[38;5;124;43m'\u001B[39;49m\u001B[43m)\u001B[49m \u001B[38;5;28;01mas\u001B[39;00m read:\n\u001B[1;32m      4\u001B[0m     texts2 \u001B[38;5;241m=\u001B[39m [t \u001B[38;5;28;01mfor\u001B[39;00m t \u001B[38;5;129;01min\u001B[39;00m read]\n",
      "File \u001B[0;32m~/PycharmProjects/grammar_ru/.venv/lib/python3.10/site-packages/jsonlines/jsonlines.py:643\u001B[0m, in \u001B[0;36mopen\u001B[0;34m(file, mode, loads, dumps, compact, sort_keys, flush)\u001B[0m\n\u001B[1;32m    641\u001B[0m \u001B[38;5;28mcls\u001B[39m \u001B[38;5;241m=\u001B[39m Reader \u001B[38;5;28;01mif\u001B[39;00m mode \u001B[38;5;241m==\u001B[39m \u001B[38;5;124m\"\u001B[39m\u001B[38;5;124mr\u001B[39m\u001B[38;5;124m\"\u001B[39m \u001B[38;5;28;01melse\u001B[39;00m Writer\n\u001B[1;32m    642\u001B[0m encoding \u001B[38;5;241m=\u001B[39m \u001B[38;5;124m\"\u001B[39m\u001B[38;5;124mutf-8-sig\u001B[39m\u001B[38;5;124m\"\u001B[39m \u001B[38;5;28;01mif\u001B[39;00m mode \u001B[38;5;241m==\u001B[39m \u001B[38;5;124m\"\u001B[39m\u001B[38;5;124mr\u001B[39m\u001B[38;5;124m\"\u001B[39m \u001B[38;5;28;01melse\u001B[39;00m \u001B[38;5;124m\"\u001B[39m\u001B[38;5;124mutf-8\u001B[39m\u001B[38;5;124m\"\u001B[39m\n\u001B[0;32m--> 643\u001B[0m fp \u001B[38;5;241m=\u001B[39m \u001B[43mbuiltins\u001B[49m\u001B[38;5;241;43m.\u001B[39;49m\u001B[43mopen\u001B[49m\u001B[43m(\u001B[49m\u001B[43mfile\u001B[49m\u001B[43m,\u001B[49m\u001B[43m \u001B[49m\u001B[43mmode\u001B[49m\u001B[38;5;241;43m=\u001B[39;49m\u001B[43mmode\u001B[49m\u001B[43m \u001B[49m\u001B[38;5;241;43m+\u001B[39;49m\u001B[43m \u001B[49m\u001B[38;5;124;43m\"\u001B[39;49m\u001B[38;5;124;43mt\u001B[39;49m\u001B[38;5;124;43m\"\u001B[39;49m\u001B[43m,\u001B[49m\u001B[43m \u001B[49m\u001B[43mencoding\u001B[49m\u001B[38;5;241;43m=\u001B[39;49m\u001B[43mencoding\u001B[49m\u001B[43m)\u001B[49m\n\u001B[1;32m    644\u001B[0m kwargs \u001B[38;5;241m=\u001B[39m \u001B[38;5;28mdict\u001B[39m(\n\u001B[1;32m    645\u001B[0m     loads\u001B[38;5;241m=\u001B[39mloads,\n\u001B[1;32m    646\u001B[0m     dumps\u001B[38;5;241m=\u001B[39mdumps,\n\u001B[0;32m   (...)\u001B[0m\n\u001B[1;32m    649\u001B[0m     flush\u001B[38;5;241m=\u001B[39mflush,\n\u001B[1;32m    650\u001B[0m )\n\u001B[1;32m    651\u001B[0m kwargs \u001B[38;5;241m=\u001B[39m {key: value \u001B[38;5;28;01mfor\u001B[39;00m key, value \u001B[38;5;129;01min\u001B[39;00m kwargs\u001B[38;5;241m.\u001B[39mitems() \u001B[38;5;28;01mif\u001B[39;00m value \u001B[38;5;129;01mis\u001B[39;00m \u001B[38;5;129;01mnot\u001B[39;00m \u001B[38;5;28;01mNone\u001B[39;00m}\n",
      "\u001B[0;31mFileNotFoundError\u001B[0m: [Errno 2] No such file or directory: 'texts.jsonl'"
     ]
    }
   ],
   "source": [
    "import jsonlines\n",
    "\n",
    "with jsonlines.open('texts.jsonl') as read:\n",
    "    texts2 = [t for t in read]"
   ],
   "metadata": {
    "collapsed": false,
    "ExecuteTime": {
     "end_time": "2023-12-25T20:51:46.863201192Z",
     "start_time": "2023-12-25T20:51:46.719132800Z"
    }
   },
   "id": "8b1e61a7a033327b"
  },
  {
   "cell_type": "code",
   "execution_count": null,
   "outputs": [],
   "source": [
    "import itertools\n",
    "\n",
    "sents = list(itertools.chain.from_iterable(text.splitlines() for text in texts2))"
   ],
   "metadata": {
    "collapsed": false
   },
   "id": "403e5f7477a3813"
  },
  {
   "cell_type": "code",
   "execution_count": null,
   "outputs": [],
   "source": [
    "import random\n",
    "\n",
    "random.shuffle(sents)"
   ],
   "metadata": {
    "collapsed": false
   },
   "id": "c023641f6ea6b8fb"
  },
  {
   "cell_type": "code",
   "execution_count": null,
   "outputs": [],
   "source": [
    "len(sents)"
   ],
   "metadata": {
    "collapsed": false
   },
   "id": "a19292c332f58a18"
  },
  {
   "cell_type": "code",
   "execution_count": 58,
   "outputs": [],
   "source": [
    "from tg.common import DataBundle\n",
    "\n",
    "db = DataBundle.load('data/mytest_db.zip')"
   ],
   "metadata": {
    "collapsed": false,
    "ExecuteTime": {
     "end_time": "2023-12-25T21:24:37.856207084Z",
     "start_time": "2023-12-25T21:24:31.177597215Z"
    }
   },
   "id": "8fee0db89d3e98e9"
  },
  {
   "cell_type": "code",
   "execution_count": 59,
   "outputs": [
    {
     "data": {
      "text/plain": "   word_id  sentence_id  word_index  paragraph_id  word_tail        word  \\\n0        0            0           0             0          1     Рубинде   \n1        1            0           1             0          1  посмотрела   \n2        2            0           2             0          1          на   \n3        3            0           3             0          0       Серую   \n4        4            0           4             0          1           ,   \n\n  word_type  word_length normal_form  alternatives  ...  gender  number  case  \\\n0        ru            7      рубинд             3  ...    masc    sing  loct   \n1        ru           10  посмотреть             1  ...    femn    sing  None   \n2        ru            2          на             3  ...    None    None  None   \n3        ru            5       серый             1  ...    femn    sing  accs   \n4     punct            1           ,             1  ...    None    None  None   \n\n  aspect transitivity person tense  mood voice involvement  \n0   None         None   None  None  None  None        None  \n1   perf         tran   None  past  indc  None        None  \n2   None         None   None  None  None  None        None  \n3   None         None   None  None  None  None        None  \n4   None         None   None  None  None  None        None  \n\n[5 rows x 24 columns]",
      "text/html": "<div>\n<style scoped>\n    .dataframe tbody tr th:only-of-type {\n        vertical-align: middle;\n    }\n\n    .dataframe tbody tr th {\n        vertical-align: top;\n    }\n\n    .dataframe thead th {\n        text-align: right;\n    }\n</style>\n<table border=\"1\" class=\"dataframe\">\n  <thead>\n    <tr style=\"text-align: right;\">\n      <th></th>\n      <th>word_id</th>\n      <th>sentence_id</th>\n      <th>word_index</th>\n      <th>paragraph_id</th>\n      <th>word_tail</th>\n      <th>word</th>\n      <th>word_type</th>\n      <th>word_length</th>\n      <th>normal_form</th>\n      <th>alternatives</th>\n      <th>...</th>\n      <th>gender</th>\n      <th>number</th>\n      <th>case</th>\n      <th>aspect</th>\n      <th>transitivity</th>\n      <th>person</th>\n      <th>tense</th>\n      <th>mood</th>\n      <th>voice</th>\n      <th>involvement</th>\n    </tr>\n  </thead>\n  <tbody>\n    <tr>\n      <th>0</th>\n      <td>0</td>\n      <td>0</td>\n      <td>0</td>\n      <td>0</td>\n      <td>1</td>\n      <td>Рубинде</td>\n      <td>ru</td>\n      <td>7</td>\n      <td>рубинд</td>\n      <td>3</td>\n      <td>...</td>\n      <td>masc</td>\n      <td>sing</td>\n      <td>loct</td>\n      <td>None</td>\n      <td>None</td>\n      <td>None</td>\n      <td>None</td>\n      <td>None</td>\n      <td>None</td>\n      <td>None</td>\n    </tr>\n    <tr>\n      <th>1</th>\n      <td>1</td>\n      <td>0</td>\n      <td>1</td>\n      <td>0</td>\n      <td>1</td>\n      <td>посмотрела</td>\n      <td>ru</td>\n      <td>10</td>\n      <td>посмотреть</td>\n      <td>1</td>\n      <td>...</td>\n      <td>femn</td>\n      <td>sing</td>\n      <td>None</td>\n      <td>perf</td>\n      <td>tran</td>\n      <td>None</td>\n      <td>past</td>\n      <td>indc</td>\n      <td>None</td>\n      <td>None</td>\n    </tr>\n    <tr>\n      <th>2</th>\n      <td>2</td>\n      <td>0</td>\n      <td>2</td>\n      <td>0</td>\n      <td>1</td>\n      <td>на</td>\n      <td>ru</td>\n      <td>2</td>\n      <td>на</td>\n      <td>3</td>\n      <td>...</td>\n      <td>None</td>\n      <td>None</td>\n      <td>None</td>\n      <td>None</td>\n      <td>None</td>\n      <td>None</td>\n      <td>None</td>\n      <td>None</td>\n      <td>None</td>\n      <td>None</td>\n    </tr>\n    <tr>\n      <th>3</th>\n      <td>3</td>\n      <td>0</td>\n      <td>3</td>\n      <td>0</td>\n      <td>0</td>\n      <td>Серую</td>\n      <td>ru</td>\n      <td>5</td>\n      <td>серый</td>\n      <td>1</td>\n      <td>...</td>\n      <td>femn</td>\n      <td>sing</td>\n      <td>accs</td>\n      <td>None</td>\n      <td>None</td>\n      <td>None</td>\n      <td>None</td>\n      <td>None</td>\n      <td>None</td>\n      <td>None</td>\n    </tr>\n    <tr>\n      <th>4</th>\n      <td>4</td>\n      <td>0</td>\n      <td>4</td>\n      <td>0</td>\n      <td>1</td>\n      <td>,</td>\n      <td>punct</td>\n      <td>1</td>\n      <td>,</td>\n      <td>1</td>\n      <td>...</td>\n      <td>None</td>\n      <td>None</td>\n      <td>None</td>\n      <td>None</td>\n      <td>None</td>\n      <td>None</td>\n      <td>None</td>\n      <td>None</td>\n      <td>None</td>\n      <td>None</td>\n    </tr>\n  </tbody>\n</table>\n<p>5 rows × 24 columns</p>\n</div>"
     },
     "execution_count": 59,
     "metadata": {},
     "output_type": "execute_result"
    }
   ],
   "source": [
    "db.src = db.src.join(db.pymorphy, on='word_id')\n",
    "db.src.head()"
   ],
   "metadata": {
    "collapsed": false,
    "ExecuteTime": {
     "end_time": "2023-12-25T21:24:41.481875232Z",
     "start_time": "2023-12-25T21:24:37.857444641Z"
    }
   },
   "id": "bcb0203ce74241f8"
  },
  {
   "cell_type": "code",
   "execution_count": 60,
   "outputs": [
    {
     "name": "stdout",
     "output_type": "stream",
     "text": [
      "<class 'pandas.core.frame.DataFrame'>\n",
      "Int64Index: 54627 entries, 12 to 13469575\n",
      "Data columns (total 16 columns):\n",
      " #   Column        Non-Null Count  Dtype  \n",
      "---  ------        --------------  -----  \n",
      " 0   normal_form   54627 non-null  object \n",
      " 1   alternatives  54627 non-null  int64  \n",
      " 2   score         54627 non-null  float64\n",
      " 3   delta_score   54627 non-null  float64\n",
      " 4   POS           54627 non-null  object \n",
      " 5   animacy       0 non-null      object \n",
      " 6   gender        42058 non-null  object \n",
      " 7   number        54627 non-null  object \n",
      " 8   case          0 non-null      object \n",
      " 9   aspect        0 non-null      object \n",
      " 10  transitivity  0 non-null      object \n",
      " 11  person        0 non-null      object \n",
      " 12  tense         0 non-null      object \n",
      " 13  mood          0 non-null      object \n",
      " 14  voice         0 non-null      object \n",
      " 15  involvement   0 non-null      object \n",
      "dtypes: float64(2), int64(1), object(13)\n",
      "memory usage: 7.1+ MB\n"
     ]
    }
   ],
   "source": [
    "db.pymorphy[db.pymorphy.POS == 'ADJS'].info()"
   ],
   "metadata": {
    "collapsed": false,
    "ExecuteTime": {
     "end_time": "2023-12-25T21:24:42.034333817Z",
     "start_time": "2023-12-25T21:24:41.956033765Z"
    }
   },
   "id": "2b3e4e16c75452a1"
  },
  {
   "cell_type": "code",
   "execution_count": 61,
   "outputs": [
    {
     "name": "stdout",
     "output_type": "stream",
     "text": [
      "<class 'pandas.core.frame.DataFrame'>\n",
      "Int64Index: 1314286 entries, 3 to 13470082\n",
      "Data columns (total 16 columns):\n",
      " #   Column        Non-Null Count    Dtype  \n",
      "---  ------        --------------    -----  \n",
      " 0   normal_form   1314286 non-null  object \n",
      " 1   alternatives  1314286 non-null  int64  \n",
      " 2   score         1314286 non-null  float64\n",
      " 3   delta_score   1314286 non-null  float64\n",
      " 4   POS           1314286 non-null  object \n",
      " 5   animacy       52830 non-null    object \n",
      " 6   gender        934742 non-null   object \n",
      " 7   number        1314286 non-null  object \n",
      " 8   case          1314286 non-null  object \n",
      " 9   aspect        0 non-null        object \n",
      " 10  transitivity  0 non-null        object \n",
      " 11  person        0 non-null        object \n",
      " 12  tense         0 non-null        object \n",
      " 13  mood          0 non-null        object \n",
      " 14  voice         0 non-null        object \n",
      " 15  involvement   0 non-null        object \n",
      "dtypes: float64(2), int64(1), object(13)\n",
      "memory usage: 170.5+ MB\n"
     ]
    }
   ],
   "source": [
    "db.pymorphy[db.pymorphy.POS == 'ADJF'].info()"
   ],
   "metadata": {
    "collapsed": false,
    "ExecuteTime": {
     "end_time": "2023-12-25T21:24:44.173046424Z",
     "start_time": "2023-12-25T21:24:42.561042079Z"
    }
   },
   "id": "4374db1a967fa24c"
  },
  {
   "cell_type": "code",
   "execution_count": 62,
   "outputs": [
    {
     "data": {
      "text/plain": "    POS_-7 gender_-7 number_-7  case_-7 animacy_-7 aspect_-7 transitivity_-7  \\\n0  missing   missing   missing  missing    missing   missing         missing   \n1     GRND   missing   missing  missing    missing      perf            tran   \n2  missing   missing   missing  missing    missing   missing         missing   \n3  missing   missing   missing  missing    missing   missing         missing   \n4     ADVB   missing   missing  missing    missing   missing         missing   \n\n  person_-7 tense_-7  mood_-7  ...   case_7 animacy_7 aspect_7 transitivity_7  \\\n0   missing  missing  missing  ...  missing   missing  missing        missing   \n1   missing     past  missing  ...  missing   missing  missing        missing   \n2   missing  missing  missing  ...  missing   missing  missing        missing   \n3   missing  missing  missing  ...     nomn      inan  missing        missing   \n4   missing  missing  missing  ...  missing   missing     perf           tran   \n\n  person_7  tense_7   mood_7  voice_7 involvement_7  OFFSET_7  \n0  missing  missing  missing  missing       missing  OFFSET_7  \n1  missing  missing  missing  missing       missing  OFFSET_7  \n2  missing  missing  missing  missing       missing  OFFSET_7  \n3  missing  missing  missing  missing       missing  OFFSET_7  \n4  missing  missing  missing  missing       missing  OFFSET_7  \n\n[5 rows x 195 columns]",
      "text/html": "<div>\n<style scoped>\n    .dataframe tbody tr th:only-of-type {\n        vertical-align: middle;\n    }\n\n    .dataframe tbody tr th {\n        vertical-align: top;\n    }\n\n    .dataframe thead th {\n        text-align: right;\n    }\n</style>\n<table border=\"1\" class=\"dataframe\">\n  <thead>\n    <tr style=\"text-align: right;\">\n      <th></th>\n      <th>POS_-7</th>\n      <th>gender_-7</th>\n      <th>number_-7</th>\n      <th>case_-7</th>\n      <th>animacy_-7</th>\n      <th>aspect_-7</th>\n      <th>transitivity_-7</th>\n      <th>person_-7</th>\n      <th>tense_-7</th>\n      <th>mood_-7</th>\n      <th>...</th>\n      <th>case_7</th>\n      <th>animacy_7</th>\n      <th>aspect_7</th>\n      <th>transitivity_7</th>\n      <th>person_7</th>\n      <th>tense_7</th>\n      <th>mood_7</th>\n      <th>voice_7</th>\n      <th>involvement_7</th>\n      <th>OFFSET_7</th>\n    </tr>\n  </thead>\n  <tbody>\n    <tr>\n      <th>0</th>\n      <td>missing</td>\n      <td>missing</td>\n      <td>missing</td>\n      <td>missing</td>\n      <td>missing</td>\n      <td>missing</td>\n      <td>missing</td>\n      <td>missing</td>\n      <td>missing</td>\n      <td>missing</td>\n      <td>...</td>\n      <td>missing</td>\n      <td>missing</td>\n      <td>missing</td>\n      <td>missing</td>\n      <td>missing</td>\n      <td>missing</td>\n      <td>missing</td>\n      <td>missing</td>\n      <td>missing</td>\n      <td>OFFSET_7</td>\n    </tr>\n    <tr>\n      <th>1</th>\n      <td>GRND</td>\n      <td>missing</td>\n      <td>missing</td>\n      <td>missing</td>\n      <td>missing</td>\n      <td>perf</td>\n      <td>tran</td>\n      <td>missing</td>\n      <td>past</td>\n      <td>missing</td>\n      <td>...</td>\n      <td>missing</td>\n      <td>missing</td>\n      <td>missing</td>\n      <td>missing</td>\n      <td>missing</td>\n      <td>missing</td>\n      <td>missing</td>\n      <td>missing</td>\n      <td>missing</td>\n      <td>OFFSET_7</td>\n    </tr>\n    <tr>\n      <th>2</th>\n      <td>missing</td>\n      <td>missing</td>\n      <td>missing</td>\n      <td>missing</td>\n      <td>missing</td>\n      <td>missing</td>\n      <td>missing</td>\n      <td>missing</td>\n      <td>missing</td>\n      <td>missing</td>\n      <td>...</td>\n      <td>missing</td>\n      <td>missing</td>\n      <td>missing</td>\n      <td>missing</td>\n      <td>missing</td>\n      <td>missing</td>\n      <td>missing</td>\n      <td>missing</td>\n      <td>missing</td>\n      <td>OFFSET_7</td>\n    </tr>\n    <tr>\n      <th>3</th>\n      <td>missing</td>\n      <td>missing</td>\n      <td>missing</td>\n      <td>missing</td>\n      <td>missing</td>\n      <td>missing</td>\n      <td>missing</td>\n      <td>missing</td>\n      <td>missing</td>\n      <td>missing</td>\n      <td>...</td>\n      <td>nomn</td>\n      <td>inan</td>\n      <td>missing</td>\n      <td>missing</td>\n      <td>missing</td>\n      <td>missing</td>\n      <td>missing</td>\n      <td>missing</td>\n      <td>missing</td>\n      <td>OFFSET_7</td>\n    </tr>\n    <tr>\n      <th>4</th>\n      <td>ADVB</td>\n      <td>missing</td>\n      <td>missing</td>\n      <td>missing</td>\n      <td>missing</td>\n      <td>missing</td>\n      <td>missing</td>\n      <td>missing</td>\n      <td>missing</td>\n      <td>missing</td>\n      <td>...</td>\n      <td>missing</td>\n      <td>missing</td>\n      <td>perf</td>\n      <td>tran</td>\n      <td>missing</td>\n      <td>missing</td>\n      <td>missing</td>\n      <td>missing</td>\n      <td>missing</td>\n      <td>OFFSET_7</td>\n    </tr>\n  </tbody>\n</table>\n<p>5 rows × 195 columns</p>\n</div>"
     },
     "execution_count": 62,
     "metadata": {},
     "output_type": "execute_result"
    }
   ],
   "source": [
    "db.adjectives.head()"
   ],
   "metadata": {
    "collapsed": false,
    "ExecuteTime": {
     "end_time": "2023-12-25T21:24:44.173431609Z",
     "start_time": "2023-12-25T21:24:44.162254698Z"
    }
   },
   "id": "576ae0818449a10e"
  },
  {
   "cell_type": "code",
   "execution_count": 136,
   "outputs": [],
   "source": [
    "import numpy as np\n",
    "\n",
    "WINDOW_SIZE = 3"
   ],
   "metadata": {
    "collapsed": false,
    "ExecuteTime": {
     "end_time": "2023-12-25T22:13:22.614276121Z",
     "start_time": "2023-12-25T22:13:22.573815340Z"
    }
   },
   "id": "3956f0f8b83ec0a7"
  },
  {
   "cell_type": "code",
   "execution_count": 137,
   "outputs": [],
   "source": [
    "NEW = {'ая', 'ого', 'ое', 'ой', 'ом', 'ому',\n",
    "       'ую', 'ые', 'ый', 'ым', 'ыми', 'ых'}\n",
    "# NOTE выкинули 'ою'\n",
    "\n",
    "GOOD = {'ая', 'его', 'ее', 'ей', 'ем', 'ему',\n",
    "        'ие', 'ий', 'им', 'ими', 'их', 'ую', 'яя', 'юю',\n",
    "        'ого','ое', 'ой', 'ому', 'ом'} # легкий\n",
    "\n",
    "BIG = {'ая', 'ие', 'им', 'ими', 'их', 'ого',\n",
    "       'ое', 'ой', 'ом', 'ому', 'ую',\n",
    "       'ые', 'ым', 'ыми', 'ых'} # золотой\n",
    "# NOTE выкинули 'ою'\n",
    "\n",
    "NEW_list = sorted(list(NEW))\n",
    "GOOD_list = sorted(list(GOOD))\n",
    "BIG_list = sorted(list(BIG))\n",
    "# окончания с повторами. это фича.\n",
    "ALL_ENDS_list = NEW_list + GOOD_list + BIG_list\n",
    "POSSIBLE_ENDINGS = set(ALL_ENDS_list)\n",
    "endings_nums = {e: i for i, e in enumerate(ALL_ENDS_list)}\n",
    "\n",
    "NEW_num_by_end = {e: i for i, e in enumerate(NEW_list)}\n",
    "GOOD_num_by_end = {e: i+len(NEW_num_by_end) for i, e in enumerate(GOOD_list)}\n",
    "BIG_num_by_end = {e: i+len(NEW_num_by_end)+len(GOOD_num_by_end)\n",
    "                  for i, e in enumerate(BIG_list)}\n",
    "\n",
    "nums_by_decl_and_end = (\n",
    "        {('new', e): n for e, n in NEW_num_by_end.items()} |\n",
    "        {('good', e): n for e, n in GOOD_num_by_end.items()} |\n",
    "        {('big', e): n for e, n in BIG_num_by_end.items()}\n",
    ")"
   ],
   "metadata": {
    "collapsed": false,
    "ExecuteTime": {
     "end_time": "2023-12-25T22:13:22.856235361Z",
     "start_time": "2023-12-25T22:13:22.845927784Z"
    }
   },
   "id": "4d0c1e43b846e284"
  },
  {
   "cell_type": "code",
   "execution_count": 138,
   "outputs": [],
   "source": [
    "def get_ending(word: str) -> str:\n",
    "    for ending in sorted(ALL_ENDS_list, key=lambda x: len(x), reverse=True):\n",
    "        if word.endswith(ending):\n",
    "            return ending\n",
    "    \n",
    "    return 'missing'"
   ],
   "metadata": {
    "collapsed": false,
    "ExecuteTime": {
     "end_time": "2023-12-25T22:13:36.039761522Z",
     "start_time": "2023-12-25T22:13:36.028776673Z"
    }
   },
   "id": "51733eb31e9e4124"
  },
  {
   "cell_type": "code",
   "execution_count": 139,
   "outputs": [
    {
     "data": {
      "text/plain": "0               рубинд\n1           посмотреть\n2                   на\n3                серый\n4                    ,\n               ...    \n13470083         вывод\n13470084            из\n13470085          банк\n13470086         актив\n13470087             .\nName: normal_form, Length: 13470088, dtype: object"
     },
     "execution_count": 139,
     "metadata": {},
     "output_type": "execute_result"
    }
   ],
   "source": [
    "db.src['normal_form']"
   ],
   "metadata": {
    "collapsed": false,
    "ExecuteTime": {
     "end_time": "2023-12-25T22:13:37.461893555Z",
     "start_time": "2023-12-25T22:13:37.448551693Z"
    }
   },
   "id": "19038279a2d06ea1"
  },
  {
   "cell_type": "code",
   "execution_count": 142,
   "outputs": [
    {
     "data": {
      "text/plain": "0    missing\n1    missing\n2    missing\n3         ую\n4    missing\nName: ending, dtype: object"
     },
     "execution_count": 142,
     "metadata": {},
     "output_type": "execute_result"
    }
   ],
   "source": [
    "db.src['ending'] = 'missing'\n",
    "db.src['normal_ending'] = 'missing'\n",
    "adj_mask = (db.src.POS.eq('ADJS') | db.src.POS.eq('ADJF'))\n",
    "db.src.loc[adj_mask, 'ending'] = db.src.loc[adj_mask, 'word'].map(get_ending)\n",
    "db.src.loc[adj_mask, 'normal_ending'] = db.src.loc[adj_mask, 'normal_form'].map(get_ending)\n",
    "db.src.ending.head()"
   ],
   "metadata": {
    "collapsed": false,
    "ExecuteTime": {
     "end_time": "2023-12-25T22:15:18.817395586Z",
     "start_time": "2023-12-25T22:15:05.461342603Z"
    }
   },
   "id": "9277157fadae59c4"
  },
  {
   "cell_type": "code",
   "execution_count": 141,
   "outputs": [
    {
     "data": {
      "text/plain": "0.9090052715320048"
     },
     "execution_count": 141,
     "metadata": {},
     "output_type": "execute_result"
    }
   ],
   "source": [
    "db.src.ending.eq('missing').mean()"
   ],
   "metadata": {
    "collapsed": false,
    "ExecuteTime": {
     "end_time": "2023-12-25T22:13:55.845650208Z",
     "start_time": "2023-12-25T22:13:55.825235430Z"
    }
   },
   "id": "27626a77c5e36601"
  },
  {
   "cell_type": "code",
   "execution_count": 143,
   "outputs": [
    {
     "data": {
      "text/plain": "  0%|          | 0/710546 [00:00<?, ?it/s]",
      "application/vnd.jupyter.widget-view+json": {
       "version_major": 2,
       "version_minor": 0,
       "model_id": "7dd7b678e8fa4888a73ad2ec3275c571"
      }
     },
     "metadata": {},
     "output_type": "display_data"
    }
   ],
   "source": [
    "features = ['POS', 'gender', 'number', 'case', 'animacy', 'aspect', 'transitivity', 'person', 'tense', 'mood', 'voice', 'involvement']\n",
    "\n",
    "def get_offset_word_feats(word_row, offset) -> dict:\n",
    "    result = {}\n",
    "    for feat in features:\n",
    "        result[f'{feat}_{offset}'] = word_row[feat]\n",
    "    return result\n",
    "\n",
    "def get_empty_feats(offset) -> dict:\n",
    "    result = {}\n",
    "    for feat in features:\n",
    "        result[f'{feat}_{offset}'] = np.nan\n",
    "    return result\n",
    "\n",
    "\n",
    "adj_dataset = []\n",
    "\n",
    "for sent_id, sentence_df in tqdm(db.src.groupby('sentence_id')):\n",
    "    for idx in sentence_df.index[~sentence_df.normal_ending.eq('missing')]:\n",
    "        adj_window_data = {}\n",
    "        for offset in range(-WINDOW_SIZE, WINDOW_SIZE + 1):\n",
    "            if offset == 0:\n",
    "                data = sentence_df.loc[idx]\n",
    "                adj_window_data.update({'POS_0': data.POS, 'ending_norm_0': data.normal_ending, 'ending_0': data.ending})\n",
    "            elif idx + offset not in sentence_df.index:\n",
    "                adj_window_data.update(get_empty_feats(offset))\n",
    "            else:\n",
    "                adj_window_data.update(get_offset_word_feats(sentence_df.loc[idx + offset], offset))\n",
    "        \n",
    "        adj_dataset.append(adj_window_data)\n",
    "                "
   ],
   "metadata": {
    "collapsed": false,
    "ExecuteTime": {
     "end_time": "2023-12-25T22:25:27.506982083Z",
     "start_time": "2023-12-25T22:15:30.415041424Z"
    }
   },
   "id": "19fcadc6e5f34204"
  },
  {
   "cell_type": "code",
   "execution_count": 144,
   "outputs": [
    {
     "data": {
      "text/plain": "  POS_-3 gender_-3 number_-3 case_-3 animacy_-3 aspect_-3 transitivity_-3  \\\n0   NOUN      masc      sing    loct       inan      None            None   \n1   NONE      None      None    None       None      None            None   \n2    NaN       NaN       NaN     NaN        NaN       NaN             NaN   \n3   PREP      None      None    None       None      None            None   \n4   NONE      None      None    None       None      None            None   \n\n  person_-3 tense_-3 mood_-3  ... number_3 case_3 animacy_3 aspect_3  \\\n0      None     None    None  ...     plur   nomn      inan     None   \n1      None     None    None  ...     sing   accs      inan     None   \n2       NaN      NaN     NaN  ...     plur   ablt      inan     None   \n3      None     None    None  ...     None   None      None     None   \n4      None     None    None  ...     sing   accs      None     None   \n\n  transitivity_3 person_3 tense_3 mood_3 voice_3 involvement_3  \n0           None     None    None   None    None          None  \n1           None     None    None   None    None          None  \n2           None     None    None   None    None          None  \n3           None     None    None   None    None          None  \n4           None     None    None   None    None          None  \n\n[5 rows x 75 columns]",
      "text/html": "<div>\n<style scoped>\n    .dataframe tbody tr th:only-of-type {\n        vertical-align: middle;\n    }\n\n    .dataframe tbody tr th {\n        vertical-align: top;\n    }\n\n    .dataframe thead th {\n        text-align: right;\n    }\n</style>\n<table border=\"1\" class=\"dataframe\">\n  <thead>\n    <tr style=\"text-align: right;\">\n      <th></th>\n      <th>POS_-3</th>\n      <th>gender_-3</th>\n      <th>number_-3</th>\n      <th>case_-3</th>\n      <th>animacy_-3</th>\n      <th>aspect_-3</th>\n      <th>transitivity_-3</th>\n      <th>person_-3</th>\n      <th>tense_-3</th>\n      <th>mood_-3</th>\n      <th>...</th>\n      <th>number_3</th>\n      <th>case_3</th>\n      <th>animacy_3</th>\n      <th>aspect_3</th>\n      <th>transitivity_3</th>\n      <th>person_3</th>\n      <th>tense_3</th>\n      <th>mood_3</th>\n      <th>voice_3</th>\n      <th>involvement_3</th>\n    </tr>\n  </thead>\n  <tbody>\n    <tr>\n      <th>0</th>\n      <td>NOUN</td>\n      <td>masc</td>\n      <td>sing</td>\n      <td>loct</td>\n      <td>inan</td>\n      <td>None</td>\n      <td>None</td>\n      <td>None</td>\n      <td>None</td>\n      <td>None</td>\n      <td>...</td>\n      <td>plur</td>\n      <td>nomn</td>\n      <td>inan</td>\n      <td>None</td>\n      <td>None</td>\n      <td>None</td>\n      <td>None</td>\n      <td>None</td>\n      <td>None</td>\n      <td>None</td>\n    </tr>\n    <tr>\n      <th>1</th>\n      <td>NONE</td>\n      <td>None</td>\n      <td>None</td>\n      <td>None</td>\n      <td>None</td>\n      <td>None</td>\n      <td>None</td>\n      <td>None</td>\n      <td>None</td>\n      <td>None</td>\n      <td>...</td>\n      <td>sing</td>\n      <td>accs</td>\n      <td>inan</td>\n      <td>None</td>\n      <td>None</td>\n      <td>None</td>\n      <td>None</td>\n      <td>None</td>\n      <td>None</td>\n      <td>None</td>\n    </tr>\n    <tr>\n      <th>2</th>\n      <td>NaN</td>\n      <td>NaN</td>\n      <td>NaN</td>\n      <td>NaN</td>\n      <td>NaN</td>\n      <td>NaN</td>\n      <td>NaN</td>\n      <td>NaN</td>\n      <td>NaN</td>\n      <td>NaN</td>\n      <td>...</td>\n      <td>plur</td>\n      <td>ablt</td>\n      <td>inan</td>\n      <td>None</td>\n      <td>None</td>\n      <td>None</td>\n      <td>None</td>\n      <td>None</td>\n      <td>None</td>\n      <td>None</td>\n    </tr>\n    <tr>\n      <th>3</th>\n      <td>PREP</td>\n      <td>None</td>\n      <td>None</td>\n      <td>None</td>\n      <td>None</td>\n      <td>None</td>\n      <td>None</td>\n      <td>None</td>\n      <td>None</td>\n      <td>None</td>\n      <td>...</td>\n      <td>None</td>\n      <td>None</td>\n      <td>None</td>\n      <td>None</td>\n      <td>None</td>\n      <td>None</td>\n      <td>None</td>\n      <td>None</td>\n      <td>None</td>\n      <td>None</td>\n    </tr>\n    <tr>\n      <th>4</th>\n      <td>NONE</td>\n      <td>None</td>\n      <td>None</td>\n      <td>None</td>\n      <td>None</td>\n      <td>None</td>\n      <td>None</td>\n      <td>None</td>\n      <td>None</td>\n      <td>None</td>\n      <td>...</td>\n      <td>sing</td>\n      <td>accs</td>\n      <td>None</td>\n      <td>None</td>\n      <td>None</td>\n      <td>None</td>\n      <td>None</td>\n      <td>None</td>\n      <td>None</td>\n      <td>None</td>\n    </tr>\n  </tbody>\n</table>\n<p>5 rows × 75 columns</p>\n</div>"
     },
     "execution_count": 144,
     "metadata": {},
     "output_type": "execute_result"
    }
   ],
   "source": [
    "adj_df = pd.DataFrame.from_records(adj_dataset)\n",
    "adj_df.head()"
   ],
   "metadata": {
    "collapsed": false,
    "ExecuteTime": {
     "end_time": "2023-12-25T22:25:31.924484237Z",
     "start_time": "2023-12-25T22:25:27.646017703Z"
    }
   },
   "id": "22799f19b2840d18"
  },
  {
   "cell_type": "code",
   "execution_count": 145,
   "outputs": [
    {
     "name": "stdout",
     "output_type": "stream",
     "text": [
      "<class 'pandas.core.frame.DataFrame'>\n",
      "RangeIndex: 1206954 entries, 0 to 1206953\n",
      "Data columns (total 75 columns):\n",
      " #   Column           Non-Null Count    Dtype \n",
      "---  ------           --------------    ----- \n",
      " 0   POS_-3           1206954 non-null  object\n",
      " 1   gender_-3        1206954 non-null  object\n",
      " 2   number_-3        1206954 non-null  object\n",
      " 3   case_-3          1206954 non-null  object\n",
      " 4   animacy_-3       1206954 non-null  object\n",
      " 5   aspect_-3        1206954 non-null  object\n",
      " 6   transitivity_-3  1206954 non-null  object\n",
      " 7   person_-3        1206954 non-null  object\n",
      " 8   tense_-3         1206954 non-null  object\n",
      " 9   mood_-3          1206954 non-null  object\n",
      " 10  voice_-3         1206954 non-null  object\n",
      " 11  involvement_-3   1206954 non-null  object\n",
      " 12  POS_-2           1206954 non-null  object\n",
      " 13  gender_-2        1206954 non-null  object\n",
      " 14  number_-2        1206954 non-null  object\n",
      " 15  case_-2          1206954 non-null  object\n",
      " 16  animacy_-2       1206954 non-null  object\n",
      " 17  aspect_-2        1206954 non-null  object\n",
      " 18  transitivity_-2  1206954 non-null  object\n",
      " 19  person_-2        1206954 non-null  object\n",
      " 20  tense_-2         1206954 non-null  object\n",
      " 21  mood_-2          1206954 non-null  object\n",
      " 22  voice_-2         1206954 non-null  object\n",
      " 23  involvement_-2   1206954 non-null  object\n",
      " 24  POS_-1           1206954 non-null  object\n",
      " 25  gender_-1        1206954 non-null  object\n",
      " 26  number_-1        1206954 non-null  object\n",
      " 27  case_-1          1206954 non-null  object\n",
      " 28  animacy_-1       1206954 non-null  object\n",
      " 29  aspect_-1        1206954 non-null  object\n",
      " 30  transitivity_-1  1206954 non-null  object\n",
      " 31  person_-1        1206954 non-null  object\n",
      " 32  tense_-1         1206954 non-null  object\n",
      " 33  mood_-1          1206954 non-null  object\n",
      " 34  voice_-1         1206954 non-null  object\n",
      " 35  involvement_-1   1206954 non-null  object\n",
      " 36  POS_0            1206954 non-null  object\n",
      " 37  ending_norm_0    1206954 non-null  object\n",
      " 38  ending_0         1206954 non-null  object\n",
      " 39  POS_1            1206954 non-null  object\n",
      " 40  gender_1         1206954 non-null  object\n",
      " 41  number_1         1206954 non-null  object\n",
      " 42  case_1           1206954 non-null  object\n",
      " 43  animacy_1        1206954 non-null  object\n",
      " 44  aspect_1         1206954 non-null  object\n",
      " 45  transitivity_1   1206954 non-null  object\n",
      " 46  person_1         1206954 non-null  object\n",
      " 47  tense_1          1206954 non-null  object\n",
      " 48  mood_1           1206954 non-null  object\n",
      " 49  voice_1          1206954 non-null  object\n",
      " 50  involvement_1    1206954 non-null  object\n",
      " 51  POS_2            1206954 non-null  object\n",
      " 52  gender_2         1206954 non-null  object\n",
      " 53  number_2         1206954 non-null  object\n",
      " 54  case_2           1206954 non-null  object\n",
      " 55  animacy_2        1206954 non-null  object\n",
      " 56  aspect_2         1206954 non-null  object\n",
      " 57  transitivity_2   1206954 non-null  object\n",
      " 58  person_2         1206954 non-null  object\n",
      " 59  tense_2          1206954 non-null  object\n",
      " 60  mood_2           1206954 non-null  object\n",
      " 61  voice_2          1206954 non-null  object\n",
      " 62  involvement_2    1206954 non-null  object\n",
      " 63  POS_3            1206954 non-null  object\n",
      " 64  gender_3         1206954 non-null  object\n",
      " 65  number_3         1206954 non-null  object\n",
      " 66  case_3           1206954 non-null  object\n",
      " 67  animacy_3        1206954 non-null  object\n",
      " 68  aspect_3         1206954 non-null  object\n",
      " 69  transitivity_3   1206954 non-null  object\n",
      " 70  person_3         1206954 non-null  object\n",
      " 71  tense_3          1206954 non-null  object\n",
      " 72  mood_3           1206954 non-null  object\n",
      " 73  voice_3          1206954 non-null  object\n",
      " 74  involvement_3    1206954 non-null  object\n",
      "dtypes: object(75)\n",
      "memory usage: 690.6+ MB\n"
     ]
    }
   ],
   "source": [
    "adj_df = adj_df.fillna('missing')\n",
    "adj_df.info()"
   ],
   "metadata": {
    "collapsed": false,
    "ExecuteTime": {
     "end_time": "2023-12-25T22:25:44.814464172Z",
     "start_time": "2023-12-25T22:25:31.923747885Z"
    }
   },
   "id": "f1dc1a04783e25db"
  },
  {
   "cell_type": "code",
   "execution_count": 146,
   "outputs": [
    {
     "name": "stdout",
     "output_type": "stream",
     "text": [
      "<class 'pandas.core.frame.DataFrame'>\n",
      "RangeIndex: 1206954 entries, 0 to 1206953\n",
      "Data columns (total 75 columns):\n",
      " #   Column           Non-Null Count    Dtype   \n",
      "---  ------           --------------    -----   \n",
      " 0   POS_-3           1206954 non-null  category\n",
      " 1   gender_-3        1206954 non-null  category\n",
      " 2   number_-3        1206954 non-null  category\n",
      " 3   case_-3          1206954 non-null  category\n",
      " 4   animacy_-3       1206954 non-null  category\n",
      " 5   aspect_-3        1206954 non-null  category\n",
      " 6   transitivity_-3  1206954 non-null  category\n",
      " 7   person_-3        1206954 non-null  category\n",
      " 8   tense_-3         1206954 non-null  category\n",
      " 9   mood_-3          1206954 non-null  category\n",
      " 10  voice_-3         1206954 non-null  category\n",
      " 11  involvement_-3   1206954 non-null  category\n",
      " 12  POS_-2           1206954 non-null  category\n",
      " 13  gender_-2        1206954 non-null  category\n",
      " 14  number_-2        1206954 non-null  category\n",
      " 15  case_-2          1206954 non-null  category\n",
      " 16  animacy_-2       1206954 non-null  category\n",
      " 17  aspect_-2        1206954 non-null  category\n",
      " 18  transitivity_-2  1206954 non-null  category\n",
      " 19  person_-2        1206954 non-null  category\n",
      " 20  tense_-2         1206954 non-null  category\n",
      " 21  mood_-2          1206954 non-null  category\n",
      " 22  voice_-2         1206954 non-null  category\n",
      " 23  involvement_-2   1206954 non-null  category\n",
      " 24  POS_-1           1206954 non-null  category\n",
      " 25  gender_-1        1206954 non-null  category\n",
      " 26  number_-1        1206954 non-null  category\n",
      " 27  case_-1          1206954 non-null  category\n",
      " 28  animacy_-1       1206954 non-null  category\n",
      " 29  aspect_-1        1206954 non-null  category\n",
      " 30  transitivity_-1  1206954 non-null  category\n",
      " 31  person_-1        1206954 non-null  category\n",
      " 32  tense_-1         1206954 non-null  category\n",
      " 33  mood_-1          1206954 non-null  category\n",
      " 34  voice_-1         1206954 non-null  category\n",
      " 35  involvement_-1   1206954 non-null  category\n",
      " 36  POS_0            1206954 non-null  category\n",
      " 37  ending_norm_0    1206954 non-null  category\n",
      " 38  ending_0         1206954 non-null  category\n",
      " 39  POS_1            1206954 non-null  category\n",
      " 40  gender_1         1206954 non-null  category\n",
      " 41  number_1         1206954 non-null  category\n",
      " 42  case_1           1206954 non-null  category\n",
      " 43  animacy_1        1206954 non-null  category\n",
      " 44  aspect_1         1206954 non-null  category\n",
      " 45  transitivity_1   1206954 non-null  category\n",
      " 46  person_1         1206954 non-null  category\n",
      " 47  tense_1          1206954 non-null  category\n",
      " 48  mood_1           1206954 non-null  category\n",
      " 49  voice_1          1206954 non-null  category\n",
      " 50  involvement_1    1206954 non-null  category\n",
      " 51  POS_2            1206954 non-null  category\n",
      " 52  gender_2         1206954 non-null  category\n",
      " 53  number_2         1206954 non-null  category\n",
      " 54  case_2           1206954 non-null  category\n",
      " 55  animacy_2        1206954 non-null  category\n",
      " 56  aspect_2         1206954 non-null  category\n",
      " 57  transitivity_2   1206954 non-null  category\n",
      " 58  person_2         1206954 non-null  category\n",
      " 59  tense_2          1206954 non-null  category\n",
      " 60  mood_2           1206954 non-null  category\n",
      " 61  voice_2          1206954 non-null  category\n",
      " 62  involvement_2    1206954 non-null  category\n",
      " 63  POS_3            1206954 non-null  category\n",
      " 64  gender_3         1206954 non-null  category\n",
      " 65  number_3         1206954 non-null  category\n",
      " 66  case_3           1206954 non-null  category\n",
      " 67  animacy_3        1206954 non-null  category\n",
      " 68  aspect_3         1206954 non-null  category\n",
      " 69  transitivity_3   1206954 non-null  category\n",
      " 70  person_3         1206954 non-null  category\n",
      " 71  tense_3          1206954 non-null  category\n",
      " 72  mood_3           1206954 non-null  category\n",
      " 73  voice_3          1206954 non-null  category\n",
      " 74  involvement_3    1206954 non-null  category\n",
      "dtypes: category(75)\n",
      "memory usage: 86.4 MB\n"
     ]
    }
   ],
   "source": [
    "adj_df = adj_df.astype('category')\n",
    "adj_df.info(memory_usage='deep')"
   ],
   "metadata": {
    "collapsed": false,
    "ExecuteTime": {
     "end_time": "2023-12-25T22:25:46.748178257Z",
     "start_time": "2023-12-25T22:25:44.814253642Z"
    }
   },
   "id": "6426df32853d7481"
  },
  {
   "cell_type": "code",
   "execution_count": 147,
   "outputs": [
    {
     "data": {
      "text/plain": "          POS_-3 gender_-3 number_-3  case_-3 animacy_-3 aspect_-3  \\\n0           NOUN      masc      sing     loct       inan   missing   \n1           NONE   missing   missing  missing    missing   missing   \n2        missing   missing   missing  missing    missing   missing   \n3           PREP   missing   missing  missing    missing   missing   \n4           NONE   missing   missing  missing    missing   missing   \n...          ...       ...       ...      ...        ...       ...   \n1206949     VERB   missing      sing  missing    missing      perf   \n1206950     VERB   missing      sing  missing    missing      perf   \n1206951  missing   missing   missing  missing    missing   missing   \n1206952  missing   missing   missing  missing    missing   missing   \n1206953     CONJ   missing   missing  missing    missing   missing   \n\n        transitivity_-3 person_-3 tense_-3  mood_-3  ... number_3   case_3  \\\n0               missing   missing  missing  missing  ...     plur     nomn   \n1               missing   missing  missing  missing  ...     sing     accs   \n2               missing   missing  missing  missing  ...     plur     ablt   \n3               missing   missing  missing  missing  ...  missing  missing   \n4               missing   missing  missing  missing  ...     sing     accs   \n...                 ...       ...      ...      ...  ...      ...      ...   \n1206949            tran      3per     futr     indc  ...     sing  missing   \n1206950            tran      3per     futr     indc  ...     plur  missing   \n1206951         missing   missing  missing  missing  ...     sing     nomn   \n1206952         missing   missing  missing  missing  ...     sing  missing   \n1206953         missing   missing  missing  missing  ...     sing     gent   \n\n        animacy_3 aspect_3 transitivity_3 person_3  tense_3   mood_3  voice_3  \\\n0            inan  missing        missing  missing  missing  missing  missing   \n1            inan  missing        missing  missing  missing  missing  missing   \n2            inan  missing        missing  missing  missing  missing  missing   \n3         missing  missing        missing  missing  missing  missing  missing   \n4         missing  missing        missing  missing  missing  missing  missing   \n...           ...      ...            ...      ...      ...      ...      ...   \n1206949   missing     perf           tran     3per     futr     indc  missing   \n1206950   missing     impf           tran     3per     pres     indc  missing   \n1206951      inan  missing        missing  missing  missing  missing  missing   \n1206952   missing     perf        missing  missing     past  missing     pssv   \n1206953      inan  missing        missing  missing  missing  missing  missing   \n\n        involvement_3  \n0             missing  \n1             missing  \n2             missing  \n3             missing  \n4             missing  \n...               ...  \n1206949       missing  \n1206950       missing  \n1206951       missing  \n1206952       missing  \n1206953       missing  \n\n[1206954 rows x 75 columns]",
      "text/html": "<div>\n<style scoped>\n    .dataframe tbody tr th:only-of-type {\n        vertical-align: middle;\n    }\n\n    .dataframe tbody tr th {\n        vertical-align: top;\n    }\n\n    .dataframe thead th {\n        text-align: right;\n    }\n</style>\n<table border=\"1\" class=\"dataframe\">\n  <thead>\n    <tr style=\"text-align: right;\">\n      <th></th>\n      <th>POS_-3</th>\n      <th>gender_-3</th>\n      <th>number_-3</th>\n      <th>case_-3</th>\n      <th>animacy_-3</th>\n      <th>aspect_-3</th>\n      <th>transitivity_-3</th>\n      <th>person_-3</th>\n      <th>tense_-3</th>\n      <th>mood_-3</th>\n      <th>...</th>\n      <th>number_3</th>\n      <th>case_3</th>\n      <th>animacy_3</th>\n      <th>aspect_3</th>\n      <th>transitivity_3</th>\n      <th>person_3</th>\n      <th>tense_3</th>\n      <th>mood_3</th>\n      <th>voice_3</th>\n      <th>involvement_3</th>\n    </tr>\n  </thead>\n  <tbody>\n    <tr>\n      <th>0</th>\n      <td>NOUN</td>\n      <td>masc</td>\n      <td>sing</td>\n      <td>loct</td>\n      <td>inan</td>\n      <td>missing</td>\n      <td>missing</td>\n      <td>missing</td>\n      <td>missing</td>\n      <td>missing</td>\n      <td>...</td>\n      <td>plur</td>\n      <td>nomn</td>\n      <td>inan</td>\n      <td>missing</td>\n      <td>missing</td>\n      <td>missing</td>\n      <td>missing</td>\n      <td>missing</td>\n      <td>missing</td>\n      <td>missing</td>\n    </tr>\n    <tr>\n      <th>1</th>\n      <td>NONE</td>\n      <td>missing</td>\n      <td>missing</td>\n      <td>missing</td>\n      <td>missing</td>\n      <td>missing</td>\n      <td>missing</td>\n      <td>missing</td>\n      <td>missing</td>\n      <td>missing</td>\n      <td>...</td>\n      <td>sing</td>\n      <td>accs</td>\n      <td>inan</td>\n      <td>missing</td>\n      <td>missing</td>\n      <td>missing</td>\n      <td>missing</td>\n      <td>missing</td>\n      <td>missing</td>\n      <td>missing</td>\n    </tr>\n    <tr>\n      <th>2</th>\n      <td>missing</td>\n      <td>missing</td>\n      <td>missing</td>\n      <td>missing</td>\n      <td>missing</td>\n      <td>missing</td>\n      <td>missing</td>\n      <td>missing</td>\n      <td>missing</td>\n      <td>missing</td>\n      <td>...</td>\n      <td>plur</td>\n      <td>ablt</td>\n      <td>inan</td>\n      <td>missing</td>\n      <td>missing</td>\n      <td>missing</td>\n      <td>missing</td>\n      <td>missing</td>\n      <td>missing</td>\n      <td>missing</td>\n    </tr>\n    <tr>\n      <th>3</th>\n      <td>PREP</td>\n      <td>missing</td>\n      <td>missing</td>\n      <td>missing</td>\n      <td>missing</td>\n      <td>missing</td>\n      <td>missing</td>\n      <td>missing</td>\n      <td>missing</td>\n      <td>missing</td>\n      <td>...</td>\n      <td>missing</td>\n      <td>missing</td>\n      <td>missing</td>\n      <td>missing</td>\n      <td>missing</td>\n      <td>missing</td>\n      <td>missing</td>\n      <td>missing</td>\n      <td>missing</td>\n      <td>missing</td>\n    </tr>\n    <tr>\n      <th>4</th>\n      <td>NONE</td>\n      <td>missing</td>\n      <td>missing</td>\n      <td>missing</td>\n      <td>missing</td>\n      <td>missing</td>\n      <td>missing</td>\n      <td>missing</td>\n      <td>missing</td>\n      <td>missing</td>\n      <td>...</td>\n      <td>sing</td>\n      <td>accs</td>\n      <td>missing</td>\n      <td>missing</td>\n      <td>missing</td>\n      <td>missing</td>\n      <td>missing</td>\n      <td>missing</td>\n      <td>missing</td>\n      <td>missing</td>\n    </tr>\n    <tr>\n      <th>...</th>\n      <td>...</td>\n      <td>...</td>\n      <td>...</td>\n      <td>...</td>\n      <td>...</td>\n      <td>...</td>\n      <td>...</td>\n      <td>...</td>\n      <td>...</td>\n      <td>...</td>\n      <td>...</td>\n      <td>...</td>\n      <td>...</td>\n      <td>...</td>\n      <td>...</td>\n      <td>...</td>\n      <td>...</td>\n      <td>...</td>\n      <td>...</td>\n      <td>...</td>\n      <td>...</td>\n    </tr>\n    <tr>\n      <th>1206949</th>\n      <td>VERB</td>\n      <td>missing</td>\n      <td>sing</td>\n      <td>missing</td>\n      <td>missing</td>\n      <td>perf</td>\n      <td>tran</td>\n      <td>3per</td>\n      <td>futr</td>\n      <td>indc</td>\n      <td>...</td>\n      <td>sing</td>\n      <td>missing</td>\n      <td>missing</td>\n      <td>perf</td>\n      <td>tran</td>\n      <td>3per</td>\n      <td>futr</td>\n      <td>indc</td>\n      <td>missing</td>\n      <td>missing</td>\n    </tr>\n    <tr>\n      <th>1206950</th>\n      <td>VERB</td>\n      <td>missing</td>\n      <td>sing</td>\n      <td>missing</td>\n      <td>missing</td>\n      <td>perf</td>\n      <td>tran</td>\n      <td>3per</td>\n      <td>futr</td>\n      <td>indc</td>\n      <td>...</td>\n      <td>plur</td>\n      <td>missing</td>\n      <td>missing</td>\n      <td>impf</td>\n      <td>tran</td>\n      <td>3per</td>\n      <td>pres</td>\n      <td>indc</td>\n      <td>missing</td>\n      <td>missing</td>\n    </tr>\n    <tr>\n      <th>1206951</th>\n      <td>missing</td>\n      <td>missing</td>\n      <td>missing</td>\n      <td>missing</td>\n      <td>missing</td>\n      <td>missing</td>\n      <td>missing</td>\n      <td>missing</td>\n      <td>missing</td>\n      <td>missing</td>\n      <td>...</td>\n      <td>sing</td>\n      <td>nomn</td>\n      <td>inan</td>\n      <td>missing</td>\n      <td>missing</td>\n      <td>missing</td>\n      <td>missing</td>\n      <td>missing</td>\n      <td>missing</td>\n      <td>missing</td>\n    </tr>\n    <tr>\n      <th>1206952</th>\n      <td>missing</td>\n      <td>missing</td>\n      <td>missing</td>\n      <td>missing</td>\n      <td>missing</td>\n      <td>missing</td>\n      <td>missing</td>\n      <td>missing</td>\n      <td>missing</td>\n      <td>missing</td>\n      <td>...</td>\n      <td>sing</td>\n      <td>missing</td>\n      <td>missing</td>\n      <td>perf</td>\n      <td>missing</td>\n      <td>missing</td>\n      <td>past</td>\n      <td>missing</td>\n      <td>pssv</td>\n      <td>missing</td>\n    </tr>\n    <tr>\n      <th>1206953</th>\n      <td>CONJ</td>\n      <td>missing</td>\n      <td>missing</td>\n      <td>missing</td>\n      <td>missing</td>\n      <td>missing</td>\n      <td>missing</td>\n      <td>missing</td>\n      <td>missing</td>\n      <td>missing</td>\n      <td>...</td>\n      <td>sing</td>\n      <td>gent</td>\n      <td>inan</td>\n      <td>missing</td>\n      <td>missing</td>\n      <td>missing</td>\n      <td>missing</td>\n      <td>missing</td>\n      <td>missing</td>\n      <td>missing</td>\n    </tr>\n  </tbody>\n</table>\n<p>1206954 rows × 75 columns</p>\n</div>"
     },
     "execution_count": 147,
     "metadata": {},
     "output_type": "execute_result"
    }
   ],
   "source": [
    "db.data_frames['adjectives'] = adj_df\n",
    "db.adjectives"
   ],
   "metadata": {
    "collapsed": false,
    "ExecuteTime": {
     "end_time": "2023-12-25T22:25:46.780102614Z",
     "start_time": "2023-12-25T22:25:46.747639504Z"
    }
   },
   "id": "426f26f37ae48f9f"
  },
  {
   "cell_type": "code",
   "execution_count": 148,
   "outputs": [],
   "source": [
    "db.save_as_zip('mytest_db.zip')"
   ],
   "metadata": {
    "collapsed": false,
    "ExecuteTime": {
     "end_time": "2023-12-25T22:26:08.515079519Z",
     "start_time": "2023-12-25T22:25:46.769082979Z"
    }
   },
   "id": "35ff1e84ed4a4d3f"
  },
  {
   "cell_type": "code",
   "execution_count": 150,
   "outputs": [],
   "source": [
    "# adj_center_predict_features = ['gender_0', 'number_0', 'case_0', 'animacy_0']\n",
    "adj_center_predict_features = ['ending_0']\n",
    "adj_center_expect_features = ['POS_0', 'norm_ending_0']"
   ],
   "metadata": {
    "collapsed": false,
    "ExecuteTime": {
     "end_time": "2023-12-25T22:28:43.454304643Z",
     "start_time": "2023-12-25T22:28:43.406575681Z"
    }
   },
   "id": "f8265156bfed55de"
  },
  {
   "cell_type": "code",
   "execution_count": 151,
   "outputs": [],
   "source": [
    "from sklearn.model_selection import train_test_split\n",
    "\n",
    "train_df, test_df = train_test_split(db.adjectives, test_size=0.2, random_state=228)"
   ],
   "metadata": {
    "collapsed": false,
    "ExecuteTime": {
     "end_time": "2023-12-25T22:28:44.118799685Z",
     "start_time": "2023-12-25T22:28:43.964134623Z"
    }
   },
   "id": "ce48972d4ea43de0"
  },
  {
   "cell_type": "code",
   "execution_count": 152,
   "outputs": [
    {
     "data": {
      "text/plain": "(965563, 241391)"
     },
     "execution_count": 152,
     "metadata": {},
     "output_type": "execute_result"
    }
   ],
   "source": [
    "len(train_df), len(test_df)"
   ],
   "metadata": {
    "collapsed": false,
    "ExecuteTime": {
     "end_time": "2023-12-25T22:28:45.277447227Z",
     "start_time": "2023-12-25T22:28:45.267485204Z"
    }
   },
   "id": "f10083cf518a4ea"
  },
  {
   "cell_type": "code",
   "execution_count": 153,
   "outputs": [],
   "source": [
    "input_features = [col for col in db.adjectives.columns if col[-1] != '0' or col in adj_center_expect_features]\n",
    "label_features = [col for col in db.adjectives.columns if col in adj_center_predict_features]"
   ],
   "metadata": {
    "collapsed": false,
    "ExecuteTime": {
     "end_time": "2023-12-25T22:28:45.628448816Z",
     "start_time": "2023-12-25T22:28:45.617953428Z"
    }
   },
   "id": "d6547917d8bb294e"
  },
  {
   "cell_type": "code",
   "execution_count": 154,
   "outputs": [
    {
     "name": "stdout",
     "output_type": "stream",
     "text": [
      "ending_0 ой         168899\n",
      "ого        131049\n",
      "ых         107930\n",
      "ый          85208\n",
      "ые          82134\n",
      "их          65789\n",
      "missing     65705\n",
      "ая          64519\n",
      "ое          55103\n",
      "ом          54541\n",
      "ий          51273\n",
      "ым          46384\n",
      "ую          43786\n",
      "ие          40832\n",
      "им          27188\n",
      "ей          20725\n",
      "его         19546\n",
      "ыми         18195\n",
      "ому         17413\n",
      "ее          11967\n",
      "ем          11631\n",
      "ими         10004\n",
      "ему          2958\n",
      "яя           2838\n",
      "юю           1337\n",
      "Name: ending_0, dtype: int64\n"
     ]
    }
   ],
   "source": [
    "for label_feat in label_features:\n",
    "    print(label_feat, db.adjectives[label_feat].value_counts())"
   ],
   "metadata": {
    "collapsed": false,
    "ExecuteTime": {
     "end_time": "2023-12-25T22:28:47.104826390Z",
     "start_time": "2023-12-25T22:28:47.091430288Z"
    }
   },
   "id": "19dcb7276f73f07b"
  },
  {
   "cell_type": "code",
   "execution_count": 155,
   "outputs": [
    {
     "data": {
      "text/plain": "OneHotEncoder(sparse_output=False)",
      "text/html": "<style>#sk-container-id-5 {color: black;background-color: white;}#sk-container-id-5 pre{padding: 0;}#sk-container-id-5 div.sk-toggleable {background-color: white;}#sk-container-id-5 label.sk-toggleable__label {cursor: pointer;display: block;width: 100%;margin-bottom: 0;padding: 0.3em;box-sizing: border-box;text-align: center;}#sk-container-id-5 label.sk-toggleable__label-arrow:before {content: \"▸\";float: left;margin-right: 0.25em;color: #696969;}#sk-container-id-5 label.sk-toggleable__label-arrow:hover:before {color: black;}#sk-container-id-5 div.sk-estimator:hover label.sk-toggleable__label-arrow:before {color: black;}#sk-container-id-5 div.sk-toggleable__content {max-height: 0;max-width: 0;overflow: hidden;text-align: left;background-color: #f0f8ff;}#sk-container-id-5 div.sk-toggleable__content pre {margin: 0.2em;color: black;border-radius: 0.25em;background-color: #f0f8ff;}#sk-container-id-5 input.sk-toggleable__control:checked~div.sk-toggleable__content {max-height: 200px;max-width: 100%;overflow: auto;}#sk-container-id-5 input.sk-toggleable__control:checked~label.sk-toggleable__label-arrow:before {content: \"▾\";}#sk-container-id-5 div.sk-estimator input.sk-toggleable__control:checked~label.sk-toggleable__label {background-color: #d4ebff;}#sk-container-id-5 div.sk-label input.sk-toggleable__control:checked~label.sk-toggleable__label {background-color: #d4ebff;}#sk-container-id-5 input.sk-hidden--visually {border: 0;clip: rect(1px 1px 1px 1px);clip: rect(1px, 1px, 1px, 1px);height: 1px;margin: -1px;overflow: hidden;padding: 0;position: absolute;width: 1px;}#sk-container-id-5 div.sk-estimator {font-family: monospace;background-color: #f0f8ff;border: 1px dotted black;border-radius: 0.25em;box-sizing: border-box;margin-bottom: 0.5em;}#sk-container-id-5 div.sk-estimator:hover {background-color: #d4ebff;}#sk-container-id-5 div.sk-parallel-item::after {content: \"\";width: 100%;border-bottom: 1px solid gray;flex-grow: 1;}#sk-container-id-5 div.sk-label:hover label.sk-toggleable__label {background-color: #d4ebff;}#sk-container-id-5 div.sk-serial::before {content: \"\";position: absolute;border-left: 1px solid gray;box-sizing: border-box;top: 0;bottom: 0;left: 50%;z-index: 0;}#sk-container-id-5 div.sk-serial {display: flex;flex-direction: column;align-items: center;background-color: white;padding-right: 0.2em;padding-left: 0.2em;position: relative;}#sk-container-id-5 div.sk-item {position: relative;z-index: 1;}#sk-container-id-5 div.sk-parallel {display: flex;align-items: stretch;justify-content: center;background-color: white;position: relative;}#sk-container-id-5 div.sk-item::before, #sk-container-id-5 div.sk-parallel-item::before {content: \"\";position: absolute;border-left: 1px solid gray;box-sizing: border-box;top: 0;bottom: 0;left: 50%;z-index: -1;}#sk-container-id-5 div.sk-parallel-item {display: flex;flex-direction: column;z-index: 1;position: relative;background-color: white;}#sk-container-id-5 div.sk-parallel-item:first-child::after {align-self: flex-end;width: 50%;}#sk-container-id-5 div.sk-parallel-item:last-child::after {align-self: flex-start;width: 50%;}#sk-container-id-5 div.sk-parallel-item:only-child::after {width: 0;}#sk-container-id-5 div.sk-dashed-wrapped {border: 1px dashed gray;margin: 0 0.4em 0.5em 0.4em;box-sizing: border-box;padding-bottom: 0.4em;background-color: white;}#sk-container-id-5 div.sk-label label {font-family: monospace;font-weight: bold;display: inline-block;line-height: 1.2em;}#sk-container-id-5 div.sk-label-container {text-align: center;}#sk-container-id-5 div.sk-container {/* jupyter's `normalize.less` sets `[hidden] { display: none; }` but bootstrap.min.css set `[hidden] { display: none !important; }` so we also need the `!important` here to be able to override the default hidden behavior on the sphinx rendered scikit-learn.org. See: https://github.com/scikit-learn/scikit-learn/issues/21755 */display: inline-block !important;position: relative;}#sk-container-id-5 div.sk-text-repr-fallback {display: none;}</style><div id=\"sk-container-id-5\" class=\"sk-top-container\"><div class=\"sk-text-repr-fallback\"><pre>OneHotEncoder(sparse_output=False)</pre><b>In a Jupyter environment, please rerun this cell to show the HTML representation or trust the notebook. <br />On GitHub, the HTML representation is unable to render, please try loading this page with nbviewer.org.</b></div><div class=\"sk-container\" hidden><div class=\"sk-item\"><div class=\"sk-estimator sk-toggleable\"><input class=\"sk-toggleable__control sk-hidden--visually\" id=\"sk-estimator-id-5\" type=\"checkbox\" checked><label for=\"sk-estimator-id-5\" class=\"sk-toggleable__label sk-toggleable__label-arrow\">OneHotEncoder</label><div class=\"sk-toggleable__content\"><pre>OneHotEncoder(sparse_output=False)</pre></div></div></div></div></div>"
     },
     "execution_count": 155,
     "metadata": {},
     "output_type": "execute_result"
    }
   ],
   "source": [
    "from sklearn.preprocessing import OneHotEncoder\n",
    "\n",
    "ohe = OneHotEncoder(sparse_output=False)\n",
    "ohe.fit(train_df[label_features])"
   ],
   "metadata": {
    "collapsed": false,
    "ExecuteTime": {
     "end_time": "2023-12-25T22:28:47.833028598Z",
     "start_time": "2023-12-25T22:28:47.817690179Z"
    }
   },
   "id": "d43b269c651c60ed"
  },
  {
   "cell_type": "code",
   "execution_count": 156,
   "outputs": [
    {
     "data": {
      "text/plain": "array([[0., 0., 0., ..., 0., 0., 0.],\n       [1., 0., 0., ..., 0., 0., 0.],\n       [0., 1., 0., ..., 0., 0., 0.],\n       ...,\n       [0., 0., 0., ..., 0., 0., 0.],\n       [0., 1., 0., ..., 0., 0., 0.],\n       [0., 0., 0., ..., 0., 0., 0.]])"
     },
     "execution_count": 156,
     "metadata": {},
     "output_type": "execute_result"
    }
   ],
   "source": [
    "ohe.transform(db.adjectives[label_features])"
   ],
   "metadata": {
    "collapsed": false,
    "ExecuteTime": {
     "end_time": "2023-12-25T22:28:49.719873987Z",
     "start_time": "2023-12-25T22:28:49.549473113Z"
    }
   },
   "id": "39797b989a1b7f61"
  },
  {
   "cell_type": "code",
   "execution_count": 157,
   "outputs": [
    {
     "data": {
      "text/plain": "['ending_0']"
     },
     "execution_count": 157,
     "metadata": {},
     "output_type": "execute_result"
    }
   ],
   "source": [
    "label_features"
   ],
   "metadata": {
    "collapsed": false,
    "ExecuteTime": {
     "end_time": "2023-12-25T22:28:50.290613117Z",
     "start_time": "2023-12-25T22:28:50.280068890Z"
    }
   },
   "id": "cd7dd352dc56e699"
  },
  {
   "cell_type": "code",
   "execution_count": 158,
   "outputs": [],
   "source": [
    "import catboost"
   ],
   "metadata": {
    "collapsed": false,
    "ExecuteTime": {
     "end_time": "2023-12-25T22:28:51.163928716Z",
     "start_time": "2023-12-25T22:28:51.153867745Z"
    }
   },
   "id": "e978c81fb260c2f4"
  },
  {
   "cell_type": "code",
   "execution_count": 159,
   "outputs": [],
   "source": [
    "train_data = catboost.Pool(data=train_df[input_features], label=train_df[label_features[0]], cat_features=input_features)\n",
    "test_data = catboost.Pool(data=test_df[input_features], label=test_df[label_features[0]], cat_features=input_features)"
   ],
   "metadata": {
    "collapsed": false,
    "ExecuteTime": {
     "end_time": "2023-12-25T22:28:55.265862305Z",
     "start_time": "2023-12-25T22:28:51.876673530Z"
    }
   },
   "id": "d97b76245bc3f4a6"
  },
  {
   "cell_type": "code",
   "execution_count": 160,
   "outputs": [],
   "source": [
    "params = {\n",
    "    'objective': 'MultiClass',\n",
    "    'iterations': 1000,\n",
    "    'eval_metric': 'TotalF1:average=Weighted',\n",
    "    'task_type': 'GPU',\n",
    "    'gpu_ram_part': 0.5,   \n",
    "}\n",
    "\n",
    "model = catboost.CatBoostClassifier(\n",
    "    **params\n",
    ")"
   ],
   "metadata": {
    "collapsed": false,
    "ExecuteTime": {
     "end_time": "2023-12-25T22:29:03.017109891Z",
     "start_time": "2023-12-25T22:29:03.007803441Z"
    }
   },
   "id": "1a06b4cd3dce7703"
  },
  {
   "cell_type": "code",
   "execution_count": 161,
   "outputs": [
    {
     "name": "stdout",
     "output_type": "stream",
     "text": [
      "Learning rate set to 0.21052\n",
      "0:\tlearn: 0.3005340\ttest: 0.2997256\tbest: 0.2997256 (0)\ttotal: 249ms\tremaining: 4m 8s\n",
      "50:\tlearn: 0.6374521\ttest: 0.6371032\tbest: 0.6371032 (50)\ttotal: 12.1s\tremaining: 3m 45s\n",
      "100:\tlearn: 0.6593680\ttest: 0.6578991\tbest: 0.6578991 (100)\ttotal: 23.6s\tremaining: 3m 30s\n",
      "150:\tlearn: 0.6691346\ttest: 0.6667234\tbest: 0.6667234 (150)\ttotal: 40.1s\tremaining: 3m 45s\n",
      "200:\tlearn: 0.6734056\ttest: 0.6703625\tbest: 0.6703625 (200)\ttotal: 58.9s\tremaining: 3m 53s\n",
      "250:\tlearn: 0.6763620\ttest: 0.6728788\tbest: 0.6728788 (250)\ttotal: 1m 17s\tremaining: 3m 50s\n",
      "300:\tlearn: 0.6781030\ttest: 0.6739348\tbest: 0.6739348 (300)\ttotal: 1m 29s\tremaining: 3m 27s\n",
      "350:\tlearn: 0.6797904\ttest: 0.6751175\tbest: 0.6752089 (347)\ttotal: 1m 48s\tremaining: 3m 20s\n",
      "400:\tlearn: 0.6820424\ttest: 0.6771182\tbest: 0.6771413 (399)\ttotal: 2m 7s\tremaining: 3m 11s\n",
      "450:\tlearn: 0.6833602\ttest: 0.6782136\tbest: 0.6782142 (449)\ttotal: 2m 27s\tremaining: 2m 59s\n",
      "500:\tlearn: 0.6845170\ttest: 0.6790020\tbest: 0.6790210 (498)\ttotal: 2m 44s\tremaining: 2m 44s\n",
      "550:\tlearn: 0.6853801\ttest: 0.6798837\tbest: 0.6798837 (550)\ttotal: 3m 3s\tremaining: 2m 29s\n",
      "600:\tlearn: 0.6866959\ttest: 0.6803189\tbest: 0.6803189 (600)\ttotal: 3m 23s\tremaining: 2m 15s\n",
      "650:\tlearn: 0.6879014\ttest: 0.6810805\tbest: 0.6810815 (647)\ttotal: 3m 44s\tremaining: 2m\n",
      "700:\tlearn: 0.6891454\ttest: 0.6820434\tbest: 0.6820548 (699)\ttotal: 4m 4s\tremaining: 1m 44s\n",
      "750:\tlearn: 0.6902190\ttest: 0.6826123\tbest: 0.6826813 (747)\ttotal: 4m 24s\tremaining: 1m 27s\n",
      "800:\tlearn: 0.6912245\ttest: 0.6827431\tbest: 0.6828760 (797)\ttotal: 4m 45s\tremaining: 1m 10s\n",
      "850:\tlearn: 0.6922567\ttest: 0.6838379\tbest: 0.6838379 (850)\ttotal: 5m 6s\tremaining: 53.6s\n",
      "900:\tlearn: 0.6932412\ttest: 0.6841048\tbest: 0.6841418 (897)\ttotal: 5m 25s\tremaining: 35.8s\n",
      "950:\tlearn: 0.6943214\ttest: 0.6845349\tbest: 0.6846268 (938)\ttotal: 5m 45s\tremaining: 17.8s\n",
      "999:\tlearn: 0.6953866\ttest: 0.6848825\tbest: 0.6849937 (982)\ttotal: 6m 5s\tremaining: 0us\n",
      "bestTest = 0.6849936547\n",
      "bestIteration = 982\n",
      "Shrink model to first 983 iterations.\n"
     ]
    },
    {
     "data": {
      "text/plain": "<catboost.core.CatBoostClassifier at 0x7f6a74c86230>"
     },
     "execution_count": 161,
     "metadata": {},
     "output_type": "execute_result"
    }
   ],
   "source": [
    "model.fit(\n",
    "    train_data,\n",
    "    eval_set=test_data,\n",
    "    verbose=50,\n",
    ")"
   ],
   "metadata": {
    "collapsed": false,
    "ExecuteTime": {
     "end_time": "2023-12-25T22:35:19.049342977Z",
     "start_time": "2023-12-25T22:29:03.700772915Z"
    }
   },
   "id": "59e239923c38ae23"
  },
  {
   "cell_type": "code",
   "execution_count": 162,
   "outputs": [
    {
     "data": {
      "text/plain": "         Feature Id  Importances\n0            case_1    16.258195\n1          gender_1    15.449069\n2          number_1    12.327766\n3            POS_-1    12.260904\n4        animacy_-1     3.421444\n5             POS_0     2.845301\n6             POS_1     2.588566\n7         animacy_1     2.445897\n8            case_2     2.314683\n9           case_-1     2.171780\n10         gender_2     2.165412\n11        number_-1     2.026148\n12           POS_-2     1.972207\n13        gender_-1     1.821669\n14            POS_2     1.676917\n15        gender_-2     1.511512\n16          case_-2     1.339358\n17           case_3     1.321433\n18        number_-2     1.304606\n19         number_2     1.021144\n20  transitivity_-1     0.999188\n21           POS_-3     0.919580\n22            POS_3     0.817035\n23        gender_-3     0.782092\n24         gender_3     0.773320\n25          case_-3     0.633344\n26  transitivity_-2     0.583723\n27       animacy_-2     0.529600\n28        number_-3     0.500682\n29         number_3     0.484194\n30           mood_1     0.466029\n31        aspect_-1     0.438833\n32          tense_2     0.434059\n33        animacy_2     0.408121\n34       animacy_-3     0.309826\n35  transitivity_-3     0.248621\n36   transitivity_2     0.245092\n37         person_1     0.233198\n38        animacy_3     0.208475\n39          tense_3     0.170969\n40   transitivity_3     0.158987\n41         aspect_2     0.139021\n42   transitivity_1     0.136517\n43        aspect_-2     0.106098\n44         tense_-1     0.091904\n45           mood_3     0.084400\n46         tense_-2     0.080108\n47        person_-1     0.078421\n48        person_-3     0.076159\n49         aspect_1     0.070159",
      "text/html": "<div>\n<style scoped>\n    .dataframe tbody tr th:only-of-type {\n        vertical-align: middle;\n    }\n\n    .dataframe tbody tr th {\n        vertical-align: top;\n    }\n\n    .dataframe thead th {\n        text-align: right;\n    }\n</style>\n<table border=\"1\" class=\"dataframe\">\n  <thead>\n    <tr style=\"text-align: right;\">\n      <th></th>\n      <th>Feature Id</th>\n      <th>Importances</th>\n    </tr>\n  </thead>\n  <tbody>\n    <tr>\n      <th>0</th>\n      <td>case_1</td>\n      <td>16.258195</td>\n    </tr>\n    <tr>\n      <th>1</th>\n      <td>gender_1</td>\n      <td>15.449069</td>\n    </tr>\n    <tr>\n      <th>2</th>\n      <td>number_1</td>\n      <td>12.327766</td>\n    </tr>\n    <tr>\n      <th>3</th>\n      <td>POS_-1</td>\n      <td>12.260904</td>\n    </tr>\n    <tr>\n      <th>4</th>\n      <td>animacy_-1</td>\n      <td>3.421444</td>\n    </tr>\n    <tr>\n      <th>5</th>\n      <td>POS_0</td>\n      <td>2.845301</td>\n    </tr>\n    <tr>\n      <th>6</th>\n      <td>POS_1</td>\n      <td>2.588566</td>\n    </tr>\n    <tr>\n      <th>7</th>\n      <td>animacy_1</td>\n      <td>2.445897</td>\n    </tr>\n    <tr>\n      <th>8</th>\n      <td>case_2</td>\n      <td>2.314683</td>\n    </tr>\n    <tr>\n      <th>9</th>\n      <td>case_-1</td>\n      <td>2.171780</td>\n    </tr>\n    <tr>\n      <th>10</th>\n      <td>gender_2</td>\n      <td>2.165412</td>\n    </tr>\n    <tr>\n      <th>11</th>\n      <td>number_-1</td>\n      <td>2.026148</td>\n    </tr>\n    <tr>\n      <th>12</th>\n      <td>POS_-2</td>\n      <td>1.972207</td>\n    </tr>\n    <tr>\n      <th>13</th>\n      <td>gender_-1</td>\n      <td>1.821669</td>\n    </tr>\n    <tr>\n      <th>14</th>\n      <td>POS_2</td>\n      <td>1.676917</td>\n    </tr>\n    <tr>\n      <th>15</th>\n      <td>gender_-2</td>\n      <td>1.511512</td>\n    </tr>\n    <tr>\n      <th>16</th>\n      <td>case_-2</td>\n      <td>1.339358</td>\n    </tr>\n    <tr>\n      <th>17</th>\n      <td>case_3</td>\n      <td>1.321433</td>\n    </tr>\n    <tr>\n      <th>18</th>\n      <td>number_-2</td>\n      <td>1.304606</td>\n    </tr>\n    <tr>\n      <th>19</th>\n      <td>number_2</td>\n      <td>1.021144</td>\n    </tr>\n    <tr>\n      <th>20</th>\n      <td>transitivity_-1</td>\n      <td>0.999188</td>\n    </tr>\n    <tr>\n      <th>21</th>\n      <td>POS_-3</td>\n      <td>0.919580</td>\n    </tr>\n    <tr>\n      <th>22</th>\n      <td>POS_3</td>\n      <td>0.817035</td>\n    </tr>\n    <tr>\n      <th>23</th>\n      <td>gender_-3</td>\n      <td>0.782092</td>\n    </tr>\n    <tr>\n      <th>24</th>\n      <td>gender_3</td>\n      <td>0.773320</td>\n    </tr>\n    <tr>\n      <th>25</th>\n      <td>case_-3</td>\n      <td>0.633344</td>\n    </tr>\n    <tr>\n      <th>26</th>\n      <td>transitivity_-2</td>\n      <td>0.583723</td>\n    </tr>\n    <tr>\n      <th>27</th>\n      <td>animacy_-2</td>\n      <td>0.529600</td>\n    </tr>\n    <tr>\n      <th>28</th>\n      <td>number_-3</td>\n      <td>0.500682</td>\n    </tr>\n    <tr>\n      <th>29</th>\n      <td>number_3</td>\n      <td>0.484194</td>\n    </tr>\n    <tr>\n      <th>30</th>\n      <td>mood_1</td>\n      <td>0.466029</td>\n    </tr>\n    <tr>\n      <th>31</th>\n      <td>aspect_-1</td>\n      <td>0.438833</td>\n    </tr>\n    <tr>\n      <th>32</th>\n      <td>tense_2</td>\n      <td>0.434059</td>\n    </tr>\n    <tr>\n      <th>33</th>\n      <td>animacy_2</td>\n      <td>0.408121</td>\n    </tr>\n    <tr>\n      <th>34</th>\n      <td>animacy_-3</td>\n      <td>0.309826</td>\n    </tr>\n    <tr>\n      <th>35</th>\n      <td>transitivity_-3</td>\n      <td>0.248621</td>\n    </tr>\n    <tr>\n      <th>36</th>\n      <td>transitivity_2</td>\n      <td>0.245092</td>\n    </tr>\n    <tr>\n      <th>37</th>\n      <td>person_1</td>\n      <td>0.233198</td>\n    </tr>\n    <tr>\n      <th>38</th>\n      <td>animacy_3</td>\n      <td>0.208475</td>\n    </tr>\n    <tr>\n      <th>39</th>\n      <td>tense_3</td>\n      <td>0.170969</td>\n    </tr>\n    <tr>\n      <th>40</th>\n      <td>transitivity_3</td>\n      <td>0.158987</td>\n    </tr>\n    <tr>\n      <th>41</th>\n      <td>aspect_2</td>\n      <td>0.139021</td>\n    </tr>\n    <tr>\n      <th>42</th>\n      <td>transitivity_1</td>\n      <td>0.136517</td>\n    </tr>\n    <tr>\n      <th>43</th>\n      <td>aspect_-2</td>\n      <td>0.106098</td>\n    </tr>\n    <tr>\n      <th>44</th>\n      <td>tense_-1</td>\n      <td>0.091904</td>\n    </tr>\n    <tr>\n      <th>45</th>\n      <td>mood_3</td>\n      <td>0.084400</td>\n    </tr>\n    <tr>\n      <th>46</th>\n      <td>tense_-2</td>\n      <td>0.080108</td>\n    </tr>\n    <tr>\n      <th>47</th>\n      <td>person_-1</td>\n      <td>0.078421</td>\n    </tr>\n    <tr>\n      <th>48</th>\n      <td>person_-3</td>\n      <td>0.076159</td>\n    </tr>\n    <tr>\n      <th>49</th>\n      <td>aspect_1</td>\n      <td>0.070159</td>\n    </tr>\n  </tbody>\n</table>\n</div>"
     },
     "execution_count": 162,
     "metadata": {},
     "output_type": "execute_result"
    }
   ],
   "source": [
    "model.get_feature_importance(prettified=True)[:50]"
   ],
   "metadata": {
    "collapsed": false,
    "ExecuteTime": {
     "end_time": "2023-12-25T22:35:21.293302218Z",
     "start_time": "2023-12-25T22:35:21.276172747Z"
    }
   },
   "id": "6c51f650c2128812"
  },
  {
   "cell_type": "code",
   "execution_count": 163,
   "outputs": [
    {
     "data": {
      "text/plain": "{'learn': {'TotalF1:average=Weighted': 0.6953865603758298,\n  'MultiClass': 0.7816704477077104},\n 'validation': {'TotalF1:average=Weighted': 0.6849936546550611,\n  'MultiClass': 0.8147313383680419}}"
     },
     "execution_count": 163,
     "metadata": {},
     "output_type": "execute_result"
    }
   ],
   "source": [
    "model.best_score_"
   ],
   "metadata": {
    "collapsed": false,
    "ExecuteTime": {
     "end_time": "2023-12-25T22:35:23.596774959Z",
     "start_time": "2023-12-25T22:35:23.579372475Z"
    }
   },
   "id": "bef11463467c2b15"
  },
  {
   "cell_type": "code",
   "execution_count": 164,
   "outputs": [],
   "source": [
    "import pathlib\n",
    "import joblib\n",
    "\n",
    "MODEL_PATH = pathlib.Path('data/catboost_adjectives.joblib')\n",
    "OHE_ADJECTIVES_PATH = pathlib.Path('data/ohe_adjectives.joblib')"
   ],
   "metadata": {
    "collapsed": false,
    "ExecuteTime": {
     "end_time": "2023-12-25T22:35:27.100304710Z",
     "start_time": "2023-12-25T22:35:27.090795824Z"
    }
   },
   "id": "2fd6e25001191a5e"
  },
  {
   "cell_type": "code",
   "execution_count": 165,
   "outputs": [
    {
     "data": {
      "text/plain": "['data/ohe_adjectives.joblib']"
     },
     "execution_count": 165,
     "metadata": {},
     "output_type": "execute_result"
    }
   ],
   "source": [
    "model.save_model(MODEL_PATH)\n",
    "joblib.dump(ohe, OHE_ADJECTIVES_PATH)"
   ],
   "metadata": {
    "collapsed": false,
    "ExecuteTime": {
     "end_time": "2023-12-25T22:35:27.361142655Z",
     "start_time": "2023-12-25T22:35:27.358119617Z"
    }
   },
   "id": "abe40e7d1fbc0026"
  },
  {
   "cell_type": "code",
   "execution_count": 166,
   "outputs": [],
   "source": [
    "import pathlib\n",
    "import joblib\n",
    "import pymorphy2\n",
    "import numpy as np\n",
    "import pandas as pd\n",
    "import catboost\n",
    "\n",
    "features = ['POS', 'gender', 'number', 'case', 'animacy', 'aspect', 'transitivity', 'person', 'tense', 'mood', 'voice', 'involvement']\n",
    "\n",
    "def get_offset_word_feats(word_row, offset: int) -> dict:\n",
    "    result = {}\n",
    "    for feat in features:\n",
    "        result[f'{feat}_{offset}'] = word_row[feat]\n",
    "    result[f'OFFSET_{offset}'] = f'OFFSET_{offset}'\n",
    "    return result\n",
    "\n",
    "def get_empty_feats(offset: int) -> dict:\n",
    "    result = {}\n",
    "    for feat in features:\n",
    "        result[f'{feat}_{offset}'] = np.nan\n",
    "    result[f'OFFSET_{offset}'] = f'OFFSET_{offset}'\n",
    "    return result\n",
    "\n",
    "\n",
    "def inflect_with_labels(morph, word: str, labels: list) -> str:\n",
    "    parsed = morph.parse(word)[0]\n",
    "    return parsed.inflect(set(labels) - {'missing', None}).word\n",
    "    \n",
    "\n",
    "class AdjectivesSuggestionsGenerator:\n",
    "    def __init__(self, model_path: pathlib.Path, one_hot_encoding_path: pathlib.Path, window_size: int = 7):\n",
    "        self._morph = pymorphy2.MorphAnalyzer(lang='ru')\n",
    "        self._model = catboost.CatBoostClassifier().load_model(str(model_path))\n",
    "        self._one_hot_encoding = joblib.load(one_hot_encoding_path)\n",
    "        self._window_size = window_size\n",
    "\n",
    "    def get_adjectives_suggestions(self, text: str) -> pd.DataFrame | None:\n",
    "        text_db = Separator.build_bundle(text, [PyMorphyFeaturizer()])\n",
    "        text_df = text_db.src.join(text_db.pymorphy, on='word_id')\n",
    "        \n",
    "        adj_window_datas = []\n",
    "        indices = []\n",
    "        \n",
    "        for idx in text_df.index[text_df.POS.eq('ADJS') | text_df.POS.eq('ADJF')]:\n",
    "            adj_window_data = {}\n",
    "            for offset in range(-self._window_size, self._window_size + 1):\n",
    "                if idx + offset not in text_df.index:\n",
    "                    adj_window_data.update(get_empty_feats(offset))\n",
    "                else:\n",
    "                    adj_window_data.update(get_offset_word_feats(text_df.loc[idx + offset], offset))\n",
    "\n",
    "            indices.append(idx)\n",
    "            adj_window_datas.append(adj_window_data)\n",
    "        \n",
    "        if not adj_window_datas:\n",
    "            return None\n",
    "        \n",
    "        inp = pd.DataFrame(adj_window_datas)[input_features]\n",
    "        inp = inp.fillna('missing')\n",
    "        pool_inp = catboost.Pool(inp, cat_features=input_features)\n",
    "        predictions_raw = self._model.predict(pool_inp)\n",
    "        \n",
    "        words = text_df.word.loc[indices]\n",
    "        print(predictions_raw)\n",
    "        # predicted_labels = self._one_hot_encoding.inverse_transform(predictions_raw)\n",
    "        inflected_words = [word + '_' + labels[0] for word, labels in zip(words, predictions_raw)]\n",
    "        text_db.src.loc[indices, 'suggestion'] = inflected_words\n",
    "        return text_db.src"
   ],
   "metadata": {
    "collapsed": false,
    "ExecuteTime": {
     "end_time": "2023-12-25T22:35:27.670252072Z",
     "start_time": "2023-12-25T22:35:27.664506089Z"
    }
   },
   "id": "fa9c0a1e43630890"
  },
  {
   "cell_type": "code",
   "execution_count": 167,
   "outputs": [],
   "source": [
    "asg = AdjectivesSuggestionsGenerator(MODEL_PATH, OHE_ADJECTIVES_PATH, window_size=WINDOW_SIZE)"
   ],
   "metadata": {
    "collapsed": false,
    "ExecuteTime": {
     "end_time": "2023-12-25T22:35:28.462885818Z",
     "start_time": "2023-12-25T22:35:28.381578844Z"
    }
   },
   "id": "1236a7836d14ccb1"
  },
  {
   "cell_type": "code",
   "execution_count": 168,
   "outputs": [],
   "source": [
    "def apply_suggestion(word: str, suggestion: str):\n",
    "    if pd.isna(suggestion):\n",
    "        return word\n",
    "    if word.istitle():\n",
    "        return suggestion.title()\n",
    "    return suggestion"
   ],
   "metadata": {
    "collapsed": false,
    "ExecuteTime": {
     "end_time": "2023-12-25T22:35:28.822403127Z",
     "start_time": "2023-12-25T22:35:28.808727482Z"
    }
   },
   "id": "2ea67a8b776c2451"
  },
  {
   "cell_type": "code",
   "execution_count": 189,
   "outputs": [
    {
     "name": "stdout",
     "output_type": "stream",
     "text": [
      "[['ая']\n",
      " ['ой']\n",
      " ['ые']\n",
      " ['ой']]\n",
      "CPU times: user 50.1 ms, sys: 1.84 ms, total: 51.9 ms\n",
      "Wall time: 49.4 ms\n"
     ]
    }
   ],
   "source": [
    "%%time\n",
    "\n",
    "test_text = 'Синий машина ехала по скоростная трассе и врезалась в старенькая столбы на ужасная улице'\n",
    "# test_text = 'цвета морской волны и цвет морской паруса'\n",
    "\n",
    "df_with_suggestions = asg.get_adjectives_suggestions(test_text)"
   ],
   "metadata": {
    "collapsed": false,
    "ExecuteTime": {
     "end_time": "2023-12-25T22:39:32.333659108Z",
     "start_time": "2023-12-25T22:39:32.268989944Z"
    }
   },
   "id": "add184b31eb8172c"
  },
  {
   "cell_type": "code",
   "execution_count": 190,
   "outputs": [
    {
     "data": {
      "text/plain": "'Синий_Ая машина ехала по скоростная_ой трассе и врезалась в старенькая_ые столбы на ужасная_ой улице'"
     },
     "execution_count": 190,
     "metadata": {},
     "output_type": "execute_result"
    }
   ],
   "source": [
    "df_with_suggestions['word'] = df_with_suggestions[['word', 'suggestion']].apply(lambda x: apply_suggestion(*x), axis=1)\n",
    "Separator.Viewer().to_text(df_with_suggestions)"
   ],
   "metadata": {
    "collapsed": false,
    "ExecuteTime": {
     "end_time": "2023-12-25T22:39:32.465207465Z",
     "start_time": "2023-12-25T22:39:32.454799881Z"
    }
   },
   "id": "7284c72467a7734c"
  },
  {
   "cell_type": "code",
   "execution_count": 191,
   "outputs": [
    {
     "data": {
      "text/plain": "241391"
     },
     "execution_count": 191,
     "metadata": {},
     "output_type": "execute_result"
    }
   ],
   "source": [
    "y_valid = test_df[label_features[0]]\n",
    "len(y_valid)"
   ],
   "metadata": {
    "collapsed": false,
    "ExecuteTime": {
     "end_time": "2023-12-25T22:39:32.998753664Z",
     "start_time": "2023-12-25T22:39:32.988359432Z"
    }
   },
   "id": "2ee9a6aa11cfcad8"
  },
  {
   "cell_type": "code",
   "execution_count": 177,
   "outputs": [
    {
     "data": {
      "text/plain": "array([['ой'],\n       ['ой'],\n       ['ой'],\n       ...,\n       ['ой'],\n       ['ого'],\n       ['ой']], dtype=object)"
     },
     "execution_count": 177,
     "metadata": {},
     "output_type": "execute_result"
    }
   ],
   "source": [
    "y_pred = model.predict(test_data)\n",
    "y_pred"
   ],
   "metadata": {
    "collapsed": false,
    "ExecuteTime": {
     "end_time": "2023-12-25T22:37:14.600239130Z",
     "start_time": "2023-12-25T22:37:14.407165295Z"
    }
   },
   "id": "6189810a64add0b"
  },
  {
   "cell_type": "code",
   "execution_count": 180,
   "outputs": [
    {
     "data": {
      "text/plain": "0.5432917095229649"
     },
     "execution_count": 180,
     "metadata": {},
     "output_type": "execute_result"
    }
   ],
   "source": [
    "from sklearn.metrics import f1_score, accuracy_score, balanced_accuracy_score\n",
    "\n",
    "f1_score(y_valid, y_pred, average='macro')"
   ],
   "metadata": {
    "collapsed": false,
    "ExecuteTime": {
     "end_time": "2023-12-25T22:37:43.074190728Z",
     "start_time": "2023-12-25T22:37:41.908908194Z"
    }
   },
   "id": "b46b08a779422cc8"
  },
  {
   "cell_type": "code",
   "execution_count": 182,
   "outputs": [
    {
     "data": {
      "text/plain": "0.7088333864974253"
     },
     "execution_count": 182,
     "metadata": {},
     "output_type": "execute_result"
    }
   ],
   "source": [
    "\n",
    "accuracy_score(y_valid, y_pred)"
   ],
   "metadata": {
    "collapsed": false,
    "ExecuteTime": {
     "end_time": "2023-12-25T22:37:51.962911162Z",
     "start_time": "2023-12-25T22:37:51.831039865Z"
    }
   },
   "id": "fbb16b60a677f132"
  },
  {
   "cell_type": "code",
   "execution_count": 186,
   "outputs": [
    {
     "data": {
      "text/plain": "<sklearn.metrics._plot.confusion_matrix.ConfusionMatrixDisplay at 0x7f71a4d4ebf0>"
     },
     "execution_count": 186,
     "metadata": {},
     "output_type": "execute_result"
    },
    {
     "data": {
      "text/plain": "<Figure size 640x480 with 2 Axes>",
      "image/png": "[encoded data removed]"
     },
     "metadata": {},
     "output_type": "display_data"
    }
   ],
   "source": [
    "from sklearn.metrics import confusion_matrix, ConfusionMatrixDisplay\n",
    "\n",
    "cm = confusion_matrix(y_valid, y_pred, normalize='true').round(1)\n",
    "ConfusionMatrixDisplay(cm, display_labels=model.classes_).plot()"
   ],
   "metadata": {
    "collapsed": false,
    "ExecuteTime": {
     "end_time": "2023-12-25T22:38:47.772147791Z",
     "start_time": "2023-12-25T22:38:46.671243704Z"
    }
   },
   "id": "bc7e9b3db3f31808"
  },
  {
   "cell_type": "code",
   "execution_count": null,
   "outputs": [],
   "source": [],
   "metadata": {
    "collapsed": false
   },
   "id": "4a6c4a6351d7fa6f"
  }
 ],
 "metadata": {
  "kernelspec": {
   "display_name": "Python 3",
   "language": "python",
   "name": "python3"
  },
  "language_info": {
   "codemirror_mode": {
    "name": "ipython",
    "version": 2
   },
   "file_extension": ".py",
   "mimetype": "text/x-python",
   "name": "python",
   "nbconvert_exporter": "python",
   "pygments_lexer": "ipython2",
   "version": "2.7.6"
  }
 },
 "nbformat": 4,
 "nbformat_minor": 5
}
