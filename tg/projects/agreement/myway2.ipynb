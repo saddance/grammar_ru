{
 "cells": [
  {
   "cell_type": "code",
   "execution_count": null,
   "outputs": [],
   "source": [
    "import pandas as pd\n",
    "from tqdm.notebook import tqdm\n",
    "\n",
    "from tg.grammar_ru.features import PyMorphyFeaturizer"
   ],
   "metadata": {
    "collapsed": false
   },
   "id": "8789136f565357e8"
  },
  {
   "cell_type": "code",
   "execution_count": null,
   "outputs": [],
   "source": [
    "from tg.grammar_ru import Loc\n",
    "\n",
    "CORPUS_NAMES = [\n",
    "    \"books.base.zip\",\n",
    "    \"pub.base.zip\",\n",
    "    \"lenta.base.zip\"\n",
    "]\n",
    "#TODO: add smth else?\n",
    "\n",
    "CORPUS_LIST = [Loc.corpus_path / corpus_name for corpus_name in CORPUS_NAMES]"
   ],
   "metadata": {
    "collapsed": false
   },
   "id": "891684db2f6aa208"
  },
  {
   "cell_type": "code",
   "execution_count": null,
   "outputs": [],
   "source": [
    "from yo_fluq_ds import *\n",
    "from tg.grammar_ru import Separator\n",
    "from tg.grammar_ru.corpus.corpus_reader import CorpusReader"
   ],
   "metadata": {
    "collapsed": false
   },
   "id": "57f46adf755bc7c1"
  },
  {
   "cell_type": "code",
   "execution_count": null,
   "outputs": [],
   "source": [
    "viewer = Separator.Viewer()\n",
    "\n",
    "texts = list(CorpusReader.read_frames_from_several_corpora(CORPUS_LIST)\n",
    "             .feed(fluq.with_progress_bar(console=None))\n",
    "             .select(viewer.to_text)\n",
    "             )"
   ],
   "metadata": {
    "collapsed": false
   },
   "id": "1d96cec3b88ae8da"
  },
  {
   "cell_type": "code",
   "execution_count": null,
   "outputs": [],
   "source": [
    "import jsonlines\n",
    "\n",
    "with jsonlines.open('texts.jsonl', 'w') as write:\n",
    "    write.write_all(texts)"
   ],
   "metadata": {
    "collapsed": false
   },
   "id": "782342bcd1f52858"
  },
  {
   "cell_type": "code",
   "execution_count": null,
   "outputs": [],
   "source": [
    "import jsonlines\n",
    "\n",
    "with jsonlines.open('texts.jsonl') as read:\n",
    "    texts2 = [t for t in read]"
   ],
   "metadata": {
    "collapsed": false
   },
   "id": "8b1e61a7a033327b"
  },
  {
   "cell_type": "code",
   "execution_count": null,
   "outputs": [],
   "source": [
    "import itertools\n",
    "\n",
    "sents = list(itertools.chain.from_iterable(text.splitlines() for text in texts2))"
   ],
   "metadata": {
    "collapsed": false
   },
   "id": "403e5f7477a3813"
  },
  {
   "cell_type": "code",
   "execution_count": null,
   "outputs": [],
   "source": [
    "import random\n",
    "\n",
    "random.shuffle(sents)"
   ],
   "metadata": {
    "collapsed": false
   },
   "id": "c023641f6ea6b8fb"
  },
  {
   "cell_type": "code",
   "execution_count": null,
   "outputs": [],
   "source": [
    "len(sents)"
   ],
   "metadata": {
    "collapsed": false
   },
   "id": "a19292c332f58a18"
  },
  {
   "cell_type": "code",
   "execution_count": null,
   "outputs": [],
   "source": [
    "from tg.grammar_ru.features import PyMorphyFeaturizer\n",
    "\n",
    "db = Separator.build_bundle(sents[:100000], [PyMorphyFeaturizer()])"
   ],
   "metadata": {
    "collapsed": false
   },
   "id": "3af864f3c45152ab"
  },
  {
   "cell_type": "code",
   "execution_count": null,
   "outputs": [],
   "source": [
    "db.src = db.src.join(db.pymorphy, on='word_id')\n",
    "db.src.head()"
   ],
   "metadata": {
    "collapsed": false
   },
   "id": "bcb0203ce74241f8"
  },
  {
   "cell_type": "code",
   "execution_count": null,
   "outputs": [],
   "source": [
    "db.pymorphy[db.pymorphy.POS == 'ADJS'].info()"
   ],
   "metadata": {
    "collapsed": false
   },
   "id": "2b3e4e16c75452a1"
  },
  {
   "cell_type": "code",
   "execution_count": null,
   "outputs": [],
   "source": [
    "db.pymorphy[db.pymorphy.POS == 'ADJF'].info()"
   ],
   "metadata": {
    "collapsed": false
   },
   "id": "4374db1a967fa24c"
  },
  {
   "cell_type": "code",
   "execution_count": null,
   "outputs": [],
   "source": [
    "import numpy as np\n",
    "\n",
    "WINDOW_SIZE = 4\n",
    "\n",
    "features = ['POS', 'gender', 'number', 'case', 'animacy', 'aspect', 'transitivity', 'person', 'tense', 'mood', 'voice', 'involvement']\n",
    "\n",
    "def get_offset_word_feats(word_row, offset) -> dict:\n",
    "    result = {}\n",
    "    for feat in features:\n",
    "        result[f'{feat}_{offset}'] = word_row[feat]\n",
    "    result[f'OFFSET_{offset}'] = f'OFFSET_{offset}'\n",
    "    return result\n",
    "\n",
    "def get_empty_feats(offset) -> dict:\n",
    "    result = {}\n",
    "    for feat in features:\n",
    "        result[f'{feat}_{offset}'] = np.nan\n",
    "    result[f'OFFSET_{offset}'] = f'OFFSET_{offset}'\n",
    "    return result\n",
    "\n",
    "\n",
    "adj_dataset = []\n",
    "\n",
    "for sent_id, sentence_df in tqdm(db.src.groupby('sentence_id')):\n",
    "    for idx in sentence_df.index[sentence_df.POS.eq('ADJS') | sentence_df.POS.eq('ADJF')]:\n",
    "        adj_window_data = {}\n",
    "        for offset in range(-WINDOW_SIZE, WINDOW_SIZE + 1):\n",
    "            if idx + offset not in sentence_df.index:\n",
    "                adj_window_data.update(get_empty_feats(offset))\n",
    "            else:\n",
    "                adj_window_data.update(get_offset_word_feats(sentence_df.loc[idx + offset], offset))\n",
    "        \n",
    "        adj_dataset.append(adj_window_data)\n",
    "                "
   ],
   "metadata": {
    "collapsed": false
   },
   "id": "19fcadc6e5f34204"
  },
  {
   "cell_type": "code",
   "execution_count": 68,
   "outputs": [
    {
     "data": {
      "text/plain": "  POS_-4 gender_-4 number_-4 case_-4 animacy_-4 aspect_-4 transitivity_-4  \\\n0    NaN       NaN       NaN     NaN        NaN       NaN             NaN   \n1   CONJ       NaN       NaN     NaN        NaN       NaN             NaN   \n2    NaN       NaN       NaN     NaN        NaN       NaN             NaN   \n3    NaN       NaN       NaN     NaN        NaN       NaN             NaN   \n4   NONE       NaN       NaN     NaN        NaN       NaN             NaN   \n\n  person_-4 tense_-4 mood_-4  ... case_4 animacy_4 aspect_4 transitivity_4  \\\n0       NaN      NaN     NaN  ...    NaN       NaN      NaN            NaN   \n1       NaN      NaN     NaN  ...    NaN       NaN      NaN            NaN   \n2       NaN      NaN     NaN  ...   ablt      inan      NaN            NaN   \n3       NaN      NaN     NaN  ...    NaN       NaN      NaN            NaN   \n4       NaN      NaN     NaN  ...   gent      anim      NaN            NaN   \n\n  person_4 tense_4 mood_4 voice_4 involvement_4  OFFSET_4  \n0      NaN     NaN    NaN     NaN           NaN  OFFSET_4  \n1      NaN     NaN    NaN     NaN           NaN  OFFSET_4  \n2      NaN     NaN    NaN     NaN           NaN  OFFSET_4  \n3      NaN     NaN    NaN     NaN           NaN  OFFSET_4  \n4      NaN     NaN    NaN     NaN           NaN  OFFSET_4  \n\n[5 rows x 117 columns]",
      "text/html": "<div>\n<style scoped>\n    .dataframe tbody tr th:only-of-type {\n        vertical-align: middle;\n    }\n\n    .dataframe tbody tr th {\n        vertical-align: top;\n    }\n\n    .dataframe thead th {\n        text-align: right;\n    }\n</style>\n<table border=\"1\" class=\"dataframe\">\n  <thead>\n    <tr style=\"text-align: right;\">\n      <th></th>\n      <th>POS_-4</th>\n      <th>gender_-4</th>\n      <th>number_-4</th>\n      <th>case_-4</th>\n      <th>animacy_-4</th>\n      <th>aspect_-4</th>\n      <th>transitivity_-4</th>\n      <th>person_-4</th>\n      <th>tense_-4</th>\n      <th>mood_-4</th>\n      <th>...</th>\n      <th>case_4</th>\n      <th>animacy_4</th>\n      <th>aspect_4</th>\n      <th>transitivity_4</th>\n      <th>person_4</th>\n      <th>tense_4</th>\n      <th>mood_4</th>\n      <th>voice_4</th>\n      <th>involvement_4</th>\n      <th>OFFSET_4</th>\n    </tr>\n  </thead>\n  <tbody>\n    <tr>\n      <th>0</th>\n      <td>NaN</td>\n      <td>NaN</td>\n      <td>NaN</td>\n      <td>NaN</td>\n      <td>NaN</td>\n      <td>NaN</td>\n      <td>NaN</td>\n      <td>NaN</td>\n      <td>NaN</td>\n      <td>NaN</td>\n      <td>...</td>\n      <td>NaN</td>\n      <td>NaN</td>\n      <td>NaN</td>\n      <td>NaN</td>\n      <td>NaN</td>\n      <td>NaN</td>\n      <td>NaN</td>\n      <td>NaN</td>\n      <td>NaN</td>\n      <td>OFFSET_4</td>\n    </tr>\n    <tr>\n      <th>1</th>\n      <td>CONJ</td>\n      <td>NaN</td>\n      <td>NaN</td>\n      <td>NaN</td>\n      <td>NaN</td>\n      <td>NaN</td>\n      <td>NaN</td>\n      <td>NaN</td>\n      <td>NaN</td>\n      <td>NaN</td>\n      <td>...</td>\n      <td>NaN</td>\n      <td>NaN</td>\n      <td>NaN</td>\n      <td>NaN</td>\n      <td>NaN</td>\n      <td>NaN</td>\n      <td>NaN</td>\n      <td>NaN</td>\n      <td>NaN</td>\n      <td>OFFSET_4</td>\n    </tr>\n    <tr>\n      <th>2</th>\n      <td>NaN</td>\n      <td>NaN</td>\n      <td>NaN</td>\n      <td>NaN</td>\n      <td>NaN</td>\n      <td>NaN</td>\n      <td>NaN</td>\n      <td>NaN</td>\n      <td>NaN</td>\n      <td>NaN</td>\n      <td>...</td>\n      <td>ablt</td>\n      <td>inan</td>\n      <td>NaN</td>\n      <td>NaN</td>\n      <td>NaN</td>\n      <td>NaN</td>\n      <td>NaN</td>\n      <td>NaN</td>\n      <td>NaN</td>\n      <td>OFFSET_4</td>\n    </tr>\n    <tr>\n      <th>3</th>\n      <td>NaN</td>\n      <td>NaN</td>\n      <td>NaN</td>\n      <td>NaN</td>\n      <td>NaN</td>\n      <td>NaN</td>\n      <td>NaN</td>\n      <td>NaN</td>\n      <td>NaN</td>\n      <td>NaN</td>\n      <td>...</td>\n      <td>NaN</td>\n      <td>NaN</td>\n      <td>NaN</td>\n      <td>NaN</td>\n      <td>NaN</td>\n      <td>NaN</td>\n      <td>NaN</td>\n      <td>NaN</td>\n      <td>NaN</td>\n      <td>OFFSET_4</td>\n    </tr>\n    <tr>\n      <th>4</th>\n      <td>NONE</td>\n      <td>NaN</td>\n      <td>NaN</td>\n      <td>NaN</td>\n      <td>NaN</td>\n      <td>NaN</td>\n      <td>NaN</td>\n      <td>NaN</td>\n      <td>NaN</td>\n      <td>NaN</td>\n      <td>...</td>\n      <td>gent</td>\n      <td>anim</td>\n      <td>NaN</td>\n      <td>NaN</td>\n      <td>NaN</td>\n      <td>NaN</td>\n      <td>NaN</td>\n      <td>NaN</td>\n      <td>NaN</td>\n      <td>OFFSET_4</td>\n    </tr>\n  </tbody>\n</table>\n<p>5 rows × 117 columns</p>\n</div>"
     },
     "execution_count": 68,
     "metadata": {},
     "output_type": "execute_result"
    }
   ],
   "source": [
    "adj_df = pd.DataFrame.from_records(adj_dataset)\n",
    "adj_df.head()"
   ],
   "metadata": {
    "collapsed": false,
    "ExecuteTime": {
     "end_time": "2023-11-15T20:15:36.493687071Z",
     "start_time": "2023-11-15T20:15:25.700089521Z"
    }
   },
   "id": "22799f19b2840d18"
  },
  {
   "cell_type": "code",
   "execution_count": 69,
   "outputs": [
    {
     "name": "stdout",
     "output_type": "stream",
     "text": [
      "<class 'pandas.core.frame.DataFrame'>\n",
      "RangeIndex: 1368913 entries, 0 to 1368912\n",
      "Columns: 117 entries, POS_-4 to OFFSET_4\n",
      "dtypes: object(117)\n",
      "memory usage: 1.2+ GB\n"
     ]
    }
   ],
   "source": [
    "adj_df = adj_df.fillna('missing')\n",
    "adj_df.info()"
   ],
   "metadata": {
    "collapsed": false,
    "ExecuteTime": {
     "end_time": "2023-11-15T20:15:53.232674162Z",
     "start_time": "2023-11-15T20:15:41.521398058Z"
    }
   },
   "id": "f1dc1a04783e25db"
  },
  {
   "cell_type": "code",
   "execution_count": 71,
   "outputs": [
    {
     "name": "stdout",
     "output_type": "stream",
     "text": [
      "<class 'pandas.core.frame.DataFrame'>\n",
      "RangeIndex: 1368913 entries, 0 to 1368912\n",
      "Columns: 117 entries, POS_-4 to OFFSET_4\n",
      "dtypes: category(117)\n",
      "memory usage: 152.8 MB\n"
     ]
    }
   ],
   "source": [
    "adj_df = adj_df.astype('category')\n",
    "adj_df.info(memory_usage='deep')"
   ],
   "metadata": {
    "collapsed": false,
    "ExecuteTime": {
     "end_time": "2023-11-15T20:16:57.795330242Z",
     "start_time": "2023-11-15T20:16:52.810875129Z"
    }
   },
   "id": "6426df32853d7481"
  },
  {
   "cell_type": "code",
   "execution_count": 72,
   "outputs": [
    {
     "data": {
      "text/plain": "          POS_-4 gender_-4 number_-4  case_-4 animacy_-4 aspect_-4  \\\n0        missing   missing   missing  missing    missing   missing   \n1           CONJ   missing   missing  missing    missing   missing   \n2        missing   missing   missing  missing    missing   missing   \n3        missing   missing   missing  missing    missing   missing   \n4           NONE   missing   missing  missing    missing   missing   \n...          ...       ...       ...      ...        ...       ...   \n1368908     NOUN      femn      sing     gent       inan   missing   \n1368909     PRCL   missing   missing  missing    missing   missing   \n1368910  missing   missing   missing  missing    missing   missing   \n1368911  missing   missing   missing  missing    missing   missing   \n1368912     NONE   missing   missing  missing    missing   missing   \n\n        transitivity_-4 person_-4 tense_-4  mood_-4  ...   case_4 animacy_4  \\\n0               missing   missing  missing  missing  ...  missing   missing   \n1               missing   missing  missing  missing  ...  missing   missing   \n2               missing   missing  missing  missing  ...     ablt      inan   \n3               missing   missing  missing  missing  ...  missing   missing   \n4               missing   missing  missing  missing  ...     gent      anim   \n...                 ...       ...      ...      ...  ...      ...       ...   \n1368908         missing   missing  missing  missing  ...     nomn      inan   \n1368909         missing   missing  missing  missing  ...  missing   missing   \n1368910         missing   missing  missing  missing  ...  missing   missing   \n1368911         missing   missing  missing  missing  ...  missing   missing   \n1368912         missing   missing  missing  missing  ...     gent      inan   \n\n        aspect_4 transitivity_4 person_4  tense_4   mood_4  voice_4  \\\n0        missing        missing  missing  missing  missing  missing   \n1        missing        missing  missing  missing  missing  missing   \n2        missing        missing  missing  missing  missing  missing   \n3        missing        missing  missing  missing  missing  missing   \n4        missing        missing  missing  missing  missing  missing   \n...          ...            ...      ...      ...      ...      ...   \n1368908  missing        missing  missing  missing  missing  missing   \n1368909  missing        missing  missing  missing  missing  missing   \n1368910  missing        missing  missing  missing  missing  missing   \n1368911  missing        missing  missing  missing  missing  missing   \n1368912  missing        missing  missing  missing  missing  missing   \n\n        involvement_4  OFFSET_4  \n0             missing  OFFSET_4  \n1             missing  OFFSET_4  \n2             missing  OFFSET_4  \n3             missing  OFFSET_4  \n4             missing  OFFSET_4  \n...               ...       ...  \n1368908       missing  OFFSET_4  \n1368909       missing  OFFSET_4  \n1368910       missing  OFFSET_4  \n1368911       missing  OFFSET_4  \n1368912       missing  OFFSET_4  \n\n[1368913 rows x 117 columns]",
      "text/html": "<div>\n<style scoped>\n    .dataframe tbody tr th:only-of-type {\n        vertical-align: middle;\n    }\n\n    .dataframe tbody tr th {\n        vertical-align: top;\n    }\n\n    .dataframe thead th {\n        text-align: right;\n    }\n</style>\n<table border=\"1\" class=\"dataframe\">\n  <thead>\n    <tr style=\"text-align: right;\">\n      <th></th>\n      <th>POS_-4</th>\n      <th>gender_-4</th>\n      <th>number_-4</th>\n      <th>case_-4</th>\n      <th>animacy_-4</th>\n      <th>aspect_-4</th>\n      <th>transitivity_-4</th>\n      <th>person_-4</th>\n      <th>tense_-4</th>\n      <th>mood_-4</th>\n      <th>...</th>\n      <th>case_4</th>\n      <th>animacy_4</th>\n      <th>aspect_4</th>\n      <th>transitivity_4</th>\n      <th>person_4</th>\n      <th>tense_4</th>\n      <th>mood_4</th>\n      <th>voice_4</th>\n      <th>involvement_4</th>\n      <th>OFFSET_4</th>\n    </tr>\n  </thead>\n  <tbody>\n    <tr>\n      <th>0</th>\n      <td>missing</td>\n      <td>missing</td>\n      <td>missing</td>\n      <td>missing</td>\n      <td>missing</td>\n      <td>missing</td>\n      <td>missing</td>\n      <td>missing</td>\n      <td>missing</td>\n      <td>missing</td>\n      <td>...</td>\n      <td>missing</td>\n      <td>missing</td>\n      <td>missing</td>\n      <td>missing</td>\n      <td>missing</td>\n      <td>missing</td>\n      <td>missing</td>\n      <td>missing</td>\n      <td>missing</td>\n      <td>OFFSET_4</td>\n    </tr>\n    <tr>\n      <th>1</th>\n      <td>CONJ</td>\n      <td>missing</td>\n      <td>missing</td>\n      <td>missing</td>\n      <td>missing</td>\n      <td>missing</td>\n      <td>missing</td>\n      <td>missing</td>\n      <td>missing</td>\n      <td>missing</td>\n      <td>...</td>\n      <td>missing</td>\n      <td>missing</td>\n      <td>missing</td>\n      <td>missing</td>\n      <td>missing</td>\n      <td>missing</td>\n      <td>missing</td>\n      <td>missing</td>\n      <td>missing</td>\n      <td>OFFSET_4</td>\n    </tr>\n    <tr>\n      <th>2</th>\n      <td>missing</td>\n      <td>missing</td>\n      <td>missing</td>\n      <td>missing</td>\n      <td>missing</td>\n      <td>missing</td>\n      <td>missing</td>\n      <td>missing</td>\n      <td>missing</td>\n      <td>missing</td>\n      <td>...</td>\n      <td>ablt</td>\n      <td>inan</td>\n      <td>missing</td>\n      <td>missing</td>\n      <td>missing</td>\n      <td>missing</td>\n      <td>missing</td>\n      <td>missing</td>\n      <td>missing</td>\n      <td>OFFSET_4</td>\n    </tr>\n    <tr>\n      <th>3</th>\n      <td>missing</td>\n      <td>missing</td>\n      <td>missing</td>\n      <td>missing</td>\n      <td>missing</td>\n      <td>missing</td>\n      <td>missing</td>\n      <td>missing</td>\n      <td>missing</td>\n      <td>missing</td>\n      <td>...</td>\n      <td>missing</td>\n      <td>missing</td>\n      <td>missing</td>\n      <td>missing</td>\n      <td>missing</td>\n      <td>missing</td>\n      <td>missing</td>\n      <td>missing</td>\n      <td>missing</td>\n      <td>OFFSET_4</td>\n    </tr>\n    <tr>\n      <th>4</th>\n      <td>NONE</td>\n      <td>missing</td>\n      <td>missing</td>\n      <td>missing</td>\n      <td>missing</td>\n      <td>missing</td>\n      <td>missing</td>\n      <td>missing</td>\n      <td>missing</td>\n      <td>missing</td>\n      <td>...</td>\n      <td>gent</td>\n      <td>anim</td>\n      <td>missing</td>\n      <td>missing</td>\n      <td>missing</td>\n      <td>missing</td>\n      <td>missing</td>\n      <td>missing</td>\n      <td>missing</td>\n      <td>OFFSET_4</td>\n    </tr>\n    <tr>\n      <th>...</th>\n      <td>...</td>\n      <td>...</td>\n      <td>...</td>\n      <td>...</td>\n      <td>...</td>\n      <td>...</td>\n      <td>...</td>\n      <td>...</td>\n      <td>...</td>\n      <td>...</td>\n      <td>...</td>\n      <td>...</td>\n      <td>...</td>\n      <td>...</td>\n      <td>...</td>\n      <td>...</td>\n      <td>...</td>\n      <td>...</td>\n      <td>...</td>\n      <td>...</td>\n      <td>...</td>\n    </tr>\n    <tr>\n      <th>1368908</th>\n      <td>NOUN</td>\n      <td>femn</td>\n      <td>sing</td>\n      <td>gent</td>\n      <td>inan</td>\n      <td>missing</td>\n      <td>missing</td>\n      <td>missing</td>\n      <td>missing</td>\n      <td>missing</td>\n      <td>...</td>\n      <td>nomn</td>\n      <td>inan</td>\n      <td>missing</td>\n      <td>missing</td>\n      <td>missing</td>\n      <td>missing</td>\n      <td>missing</td>\n      <td>missing</td>\n      <td>missing</td>\n      <td>OFFSET_4</td>\n    </tr>\n    <tr>\n      <th>1368909</th>\n      <td>PRCL</td>\n      <td>missing</td>\n      <td>missing</td>\n      <td>missing</td>\n      <td>missing</td>\n      <td>missing</td>\n      <td>missing</td>\n      <td>missing</td>\n      <td>missing</td>\n      <td>missing</td>\n      <td>...</td>\n      <td>missing</td>\n      <td>missing</td>\n      <td>missing</td>\n      <td>missing</td>\n      <td>missing</td>\n      <td>missing</td>\n      <td>missing</td>\n      <td>missing</td>\n      <td>missing</td>\n      <td>OFFSET_4</td>\n    </tr>\n    <tr>\n      <th>1368910</th>\n      <td>missing</td>\n      <td>missing</td>\n      <td>missing</td>\n      <td>missing</td>\n      <td>missing</td>\n      <td>missing</td>\n      <td>missing</td>\n      <td>missing</td>\n      <td>missing</td>\n      <td>missing</td>\n      <td>...</td>\n      <td>missing</td>\n      <td>missing</td>\n      <td>missing</td>\n      <td>missing</td>\n      <td>missing</td>\n      <td>missing</td>\n      <td>missing</td>\n      <td>missing</td>\n      <td>missing</td>\n      <td>OFFSET_4</td>\n    </tr>\n    <tr>\n      <th>1368911</th>\n      <td>missing</td>\n      <td>missing</td>\n      <td>missing</td>\n      <td>missing</td>\n      <td>missing</td>\n      <td>missing</td>\n      <td>missing</td>\n      <td>missing</td>\n      <td>missing</td>\n      <td>missing</td>\n      <td>...</td>\n      <td>missing</td>\n      <td>missing</td>\n      <td>missing</td>\n      <td>missing</td>\n      <td>missing</td>\n      <td>missing</td>\n      <td>missing</td>\n      <td>missing</td>\n      <td>missing</td>\n      <td>OFFSET_4</td>\n    </tr>\n    <tr>\n      <th>1368912</th>\n      <td>NONE</td>\n      <td>missing</td>\n      <td>missing</td>\n      <td>missing</td>\n      <td>missing</td>\n      <td>missing</td>\n      <td>missing</td>\n      <td>missing</td>\n      <td>missing</td>\n      <td>missing</td>\n      <td>...</td>\n      <td>gent</td>\n      <td>inan</td>\n      <td>missing</td>\n      <td>missing</td>\n      <td>missing</td>\n      <td>missing</td>\n      <td>missing</td>\n      <td>missing</td>\n      <td>missing</td>\n      <td>OFFSET_4</td>\n    </tr>\n  </tbody>\n</table>\n<p>1368913 rows × 117 columns</p>\n</div>"
     },
     "execution_count": 72,
     "metadata": {},
     "output_type": "execute_result"
    }
   ],
   "source": [
    "db.data_frames['adjectives'] = adj_df\n",
    "db.adjectives"
   ],
   "metadata": {
    "collapsed": false,
    "ExecuteTime": {
     "end_time": "2023-11-15T20:17:44.263697680Z",
     "start_time": "2023-11-15T20:17:44.221610371Z"
    }
   },
   "id": "426f26f37ae48f9f"
  },
  {
   "cell_type": "code",
   "execution_count": 73,
   "outputs": [],
   "source": [
    "db.save_as_zip('mytest_db.zip')"
   ],
   "metadata": {
    "collapsed": false,
    "ExecuteTime": {
     "end_time": "2023-11-15T20:18:32.931407413Z",
     "start_time": "2023-11-15T20:18:10.325024192Z"
    }
   },
   "id": "35ff1e84ed4a4d3f"
  },
  {
   "cell_type": "code",
   "execution_count": 74,
   "outputs": [],
   "source": [
    "adj_center_predict_features = ['gender_0', 'number_0', 'case_0', 'animacy_0']\n",
    "adj_center_expect_features = ['POS_0']"
   ],
   "metadata": {
    "collapsed": false,
    "ExecuteTime": {
     "end_time": "2023-11-15T20:18:37.234799294Z",
     "start_time": "2023-11-15T20:18:37.232750069Z"
    }
   },
   "id": "f8265156bfed55de"
  },
  {
   "cell_type": "code",
   "execution_count": 75,
   "outputs": [],
   "source": [
    "from sklearn.model_selection import train_test_split\n",
    "\n",
    "train_df, test_df = train_test_split(adj_df, test_size=0.2)"
   ],
   "metadata": {
    "collapsed": false,
    "ExecuteTime": {
     "end_time": "2023-11-15T20:18:39.205383335Z",
     "start_time": "2023-11-15T20:18:38.435664785Z"
    }
   },
   "id": "ce48972d4ea43de0"
  },
  {
   "cell_type": "code",
   "execution_count": 76,
   "outputs": [
    {
     "data": {
      "text/plain": "(1095130, 273783)"
     },
     "execution_count": 76,
     "metadata": {},
     "output_type": "execute_result"
    }
   ],
   "source": [
    "len(train_df), len(test_df)"
   ],
   "metadata": {
    "collapsed": false,
    "ExecuteTime": {
     "end_time": "2023-11-15T20:18:43.125804043Z",
     "start_time": "2023-11-15T20:18:43.103527542Z"
    }
   },
   "id": "f10083cf518a4ea"
  },
  {
   "cell_type": "code",
   "execution_count": 77,
   "outputs": [],
   "source": [
    "input_features = [col for col in adj_df.columns if col[-1] != '0' or col in adj_center_expect_features]\n",
    "label_features = [col for col in adj_df.columns if col in adj_center_predict_features]"
   ],
   "metadata": {
    "collapsed": false,
    "ExecuteTime": {
     "end_time": "2023-11-15T20:18:45.017825717Z",
     "start_time": "2023-11-15T20:18:45.016545048Z"
    }
   },
   "id": "d6547917d8bb294e"
  },
  {
   "cell_type": "code",
   "execution_count": 78,
   "outputs": [
    {
     "name": "stdout",
     "output_type": "stream",
     "text": [
      "gender_0 missing    392113\n",
      "masc       380459\n",
      "femn       347360\n",
      "neut       248981\n",
      "Name: gender_0, dtype: int64\n",
      "number_0 sing    976800\n",
      "plur    392113\n",
      "Name: number_0, dtype: int64\n",
      "case_0 gent       541353\n",
      "nomn       389682\n",
      "accs       134703\n",
      "loct       100043\n",
      "ablt        98429\n",
      "missing     54627\n",
      "datv        50076\n",
      "Name: case_0, dtype: int64\n",
      "animacy_0 missing    1316083\n",
      "inan         50389\n",
      "anim          2441\n",
      "Name: animacy_0, dtype: int64\n"
     ]
    }
   ],
   "source": [
    "for label_feat in label_features:\n",
    "    print(label_feat, adj_df[label_feat].value_counts())"
   ],
   "metadata": {
    "collapsed": false,
    "ExecuteTime": {
     "end_time": "2023-11-15T20:18:46.081494017Z",
     "start_time": "2023-11-15T20:18:46.066265598Z"
    }
   },
   "id": "19dcb7276f73f07b"
  },
  {
   "cell_type": "code",
   "execution_count": 118,
   "outputs": [
    {
     "data": {
      "text/plain": "OneHotEncoder(handle_unknown='infrequent_if_exist', sparse_output=False)",
      "text/html": "<style>#sk-container-id-5 {color: black;background-color: white;}#sk-container-id-5 pre{padding: 0;}#sk-container-id-5 div.sk-toggleable {background-color: white;}#sk-container-id-5 label.sk-toggleable__label {cursor: pointer;display: block;width: 100%;margin-bottom: 0;padding: 0.3em;box-sizing: border-box;text-align: center;}#sk-container-id-5 label.sk-toggleable__label-arrow:before {content: \"▸\";float: left;margin-right: 0.25em;color: #696969;}#sk-container-id-5 label.sk-toggleable__label-arrow:hover:before {color: black;}#sk-container-id-5 div.sk-estimator:hover label.sk-toggleable__label-arrow:before {color: black;}#sk-container-id-5 div.sk-toggleable__content {max-height: 0;max-width: 0;overflow: hidden;text-align: left;background-color: #f0f8ff;}#sk-container-id-5 div.sk-toggleable__content pre {margin: 0.2em;color: black;border-radius: 0.25em;background-color: #f0f8ff;}#sk-container-id-5 input.sk-toggleable__control:checked~div.sk-toggleable__content {max-height: 200px;max-width: 100%;overflow: auto;}#sk-container-id-5 input.sk-toggleable__control:checked~label.sk-toggleable__label-arrow:before {content: \"▾\";}#sk-container-id-5 div.sk-estimator input.sk-toggleable__control:checked~label.sk-toggleable__label {background-color: #d4ebff;}#sk-container-id-5 div.sk-label input.sk-toggleable__control:checked~label.sk-toggleable__label {background-color: #d4ebff;}#sk-container-id-5 input.sk-hidden--visually {border: 0;clip: rect(1px 1px 1px 1px);clip: rect(1px, 1px, 1px, 1px);height: 1px;margin: -1px;overflow: hidden;padding: 0;position: absolute;width: 1px;}#sk-container-id-5 div.sk-estimator {font-family: monospace;background-color: #f0f8ff;border: 1px dotted black;border-radius: 0.25em;box-sizing: border-box;margin-bottom: 0.5em;}#sk-container-id-5 div.sk-estimator:hover {background-color: #d4ebff;}#sk-container-id-5 div.sk-parallel-item::after {content: \"\";width: 100%;border-bottom: 1px solid gray;flex-grow: 1;}#sk-container-id-5 div.sk-label:hover label.sk-toggleable__label {background-color: #d4ebff;}#sk-container-id-5 div.sk-serial::before {content: \"\";position: absolute;border-left: 1px solid gray;box-sizing: border-box;top: 0;bottom: 0;left: 50%;z-index: 0;}#sk-container-id-5 div.sk-serial {display: flex;flex-direction: column;align-items: center;background-color: white;padding-right: 0.2em;padding-left: 0.2em;position: relative;}#sk-container-id-5 div.sk-item {position: relative;z-index: 1;}#sk-container-id-5 div.sk-parallel {display: flex;align-items: stretch;justify-content: center;background-color: white;position: relative;}#sk-container-id-5 div.sk-item::before, #sk-container-id-5 div.sk-parallel-item::before {content: \"\";position: absolute;border-left: 1px solid gray;box-sizing: border-box;top: 0;bottom: 0;left: 50%;z-index: -1;}#sk-container-id-5 div.sk-parallel-item {display: flex;flex-direction: column;z-index: 1;position: relative;background-color: white;}#sk-container-id-5 div.sk-parallel-item:first-child::after {align-self: flex-end;width: 50%;}#sk-container-id-5 div.sk-parallel-item:last-child::after {align-self: flex-start;width: 50%;}#sk-container-id-5 div.sk-parallel-item:only-child::after {width: 0;}#sk-container-id-5 div.sk-dashed-wrapped {border: 1px dashed gray;margin: 0 0.4em 0.5em 0.4em;box-sizing: border-box;padding-bottom: 0.4em;background-color: white;}#sk-container-id-5 div.sk-label label {font-family: monospace;font-weight: bold;display: inline-block;line-height: 1.2em;}#sk-container-id-5 div.sk-label-container {text-align: center;}#sk-container-id-5 div.sk-container {/* jupyter's `normalize.less` sets `[hidden] { display: none; }` but bootstrap.min.css set `[hidden] { display: none !important; }` so we also need the `!important` here to be able to override the default hidden behavior on the sphinx rendered scikit-learn.org. See: https://github.com/scikit-learn/scikit-learn/issues/21755 */display: inline-block !important;position: relative;}#sk-container-id-5 div.sk-text-repr-fallback {display: none;}</style><div id=\"sk-container-id-5\" class=\"sk-top-container\"><div class=\"sk-text-repr-fallback\"><pre>OneHotEncoder(handle_unknown=&#x27;infrequent_if_exist&#x27;, sparse_output=False)</pre><b>In a Jupyter environment, please rerun this cell to show the HTML representation or trust the notebook. <br />On GitHub, the HTML representation is unable to render, please try loading this page with nbviewer.org.</b></div><div class=\"sk-container\" hidden><div class=\"sk-item\"><div class=\"sk-estimator sk-toggleable\"><input class=\"sk-toggleable__control sk-hidden--visually\" id=\"sk-estimator-id-5\" type=\"checkbox\" checked><label for=\"sk-estimator-id-5\" class=\"sk-toggleable__label sk-toggleable__label-arrow\">OneHotEncoder</label><div class=\"sk-toggleable__content\"><pre>OneHotEncoder(handle_unknown=&#x27;infrequent_if_exist&#x27;, sparse_output=False)</pre></div></div></div></div></div>"
     },
     "execution_count": 118,
     "metadata": {},
     "output_type": "execute_result"
    }
   ],
   "source": [
    "from sklearn.preprocessing import OneHotEncoder\n",
    "\n",
    "ohe = OneHotEncoder(sparse_output=False, handle_unknown='infrequent_if_exist')\n",
    "ohe.fit(train_df[label_features])\n",
    "# ohe.fit(train_df[label_features])"
   ],
   "metadata": {
    "collapsed": false,
    "ExecuteTime": {
     "end_time": "2023-11-15T20:39:03.155539951Z",
     "start_time": "2023-11-15T20:39:03.094833768Z"
    }
   },
   "id": "d43b269c651c60ed"
  },
  {
   "cell_type": "code",
   "execution_count": 80,
   "outputs": [],
   "source": [
    "_ = ohe.transform(adj_df[label_features])"
   ],
   "metadata": {
    "collapsed": false,
    "ExecuteTime": {
     "end_time": "2023-11-15T20:18:55.032164386Z",
     "start_time": "2023-11-15T20:18:54.507623788Z"
    }
   },
   "id": "39797b989a1b7f61"
  },
  {
   "cell_type": "code",
   "execution_count": 81,
   "outputs": [],
   "source": [
    "import catboost\n",
    "\n",
    "model = catboost.CatBoostClassifier(\n",
    "    objective='MultiCrossEntropy',\n",
    "    iterations=1000,\n",
    "    custom_metric='F1',\n",
    "    task_type='GPU'\n",
    ")"
   ],
   "metadata": {
    "collapsed": false,
    "ExecuteTime": {
     "end_time": "2023-11-15T20:19:02.935221168Z",
     "start_time": "2023-11-15T20:19:02.887410147Z"
    }
   },
   "id": "1a06b4cd3dce7703"
  },
  {
   "cell_type": "code",
   "execution_count": 82,
   "outputs": [],
   "source": [
    "train_data = catboost.Pool(data=train_df[input_features], label=ohe.transform(train_df[label_features]), cat_features=input_features)\n",
    "test_data = catboost.Pool(data=test_df[input_features], label=ohe.transform(test_df[label_features]), cat_features=input_features)"
   ],
   "metadata": {
    "collapsed": false,
    "ExecuteTime": {
     "end_time": "2023-11-15T20:19:10.840885699Z",
     "start_time": "2023-11-15T20:19:04.076658666Z"
    }
   },
   "id": "10a4250af9e8b9f9"
  },
  {
   "cell_type": "code",
   "execution_count": 83,
   "outputs": [
    {
     "name": "stdout",
     "output_type": "stream",
     "text": [
      "Learning rate set to 0.03928\n",
      "0:\tlearn: 0.6422572\ttest: 0.6422182\tbest: 0.6422182 (0)\ttotal: 506ms\tremaining: 8m 25s\n",
      "50:\tlearn: 0.2046018\ttest: 0.2047443\tbest: 0.2047443 (50)\ttotal: 26.5s\tremaining: 8m 13s\n",
      "100:\tlearn: 0.1827694\ttest: 0.1828681\tbest: 0.1828681 (100)\ttotal: 49.5s\tremaining: 7m 20s\n",
      "150:\tlearn: 0.1745207\ttest: 0.1746032\tbest: 0.1746032 (150)\ttotal: 1m 12s\tremaining: 6m 47s\n",
      "200:\tlearn: 0.1699278\ttest: 0.1699888\tbest: 0.1699888 (200)\ttotal: 1m 38s\tremaining: 6m 31s\n",
      "250:\tlearn: 0.1667069\ttest: 0.1667730\tbest: 0.1667730 (250)\ttotal: 2m 3s\tremaining: 6m 8s\n",
      "300:\tlearn: 0.1641061\ttest: 0.1641945\tbest: 0.1641945 (300)\ttotal: 2m 28s\tremaining: 5m 45s\n",
      "350:\tlearn: 0.1616468\ttest: 0.1617722\tbest: 0.1617722 (350)\ttotal: 2m 53s\tremaining: 5m 21s\n",
      "400:\tlearn: 0.1594430\ttest: 0.1596328\tbest: 0.1596328 (400)\ttotal: 3m 19s\tremaining: 4m 57s\n",
      "450:\tlearn: 0.1578286\ttest: 0.1580611\tbest: 0.1580611 (450)\ttotal: 3m 45s\tremaining: 4m 34s\n",
      "500:\tlearn: 0.1565404\ttest: 0.1568086\tbest: 0.1568086 (500)\ttotal: 4m 10s\tremaining: 4m 9s\n",
      "550:\tlearn: 0.1551103\ttest: 0.1554304\tbest: 0.1554304 (550)\ttotal: 4m 35s\tremaining: 3m 44s\n",
      "600:\tlearn: 0.1540294\ttest: 0.1544115\tbest: 0.1544115 (600)\ttotal: 4m 59s\tremaining: 3m 19s\n",
      "650:\tlearn: 0.1531700\ttest: 0.1536152\tbest: 0.1536152 (650)\ttotal: 5m 24s\tremaining: 2m 54s\n",
      "700:\tlearn: 0.1523670\ttest: 0.1528617\tbest: 0.1528617 (700)\ttotal: 5m 48s\tremaining: 2m 28s\n",
      "750:\tlearn: 0.1515968\ttest: 0.1521376\tbest: 0.1521376 (750)\ttotal: 6m 12s\tremaining: 2m 3s\n",
      "800:\tlearn: 0.1509568\ttest: 0.1515544\tbest: 0.1515544 (800)\ttotal: 6m 39s\tremaining: 1m 39s\n",
      "850:\tlearn: 0.1503118\ttest: 0.1509593\tbest: 0.1509593 (850)\ttotal: 7m 1s\tremaining: 1m 13s\n",
      "900:\tlearn: 0.1496644\ttest: 0.1503663\tbest: 0.1503663 (900)\ttotal: 7m 24s\tremaining: 48.8s\n",
      "950:\tlearn: 0.1491011\ttest: 0.1498570\tbest: 0.1498570 (950)\ttotal: 7m 49s\tremaining: 24.2s\n",
      "999:\tlearn: 0.1486187\ttest: 0.1494212\tbest: 0.1494212 (999)\ttotal: 8m 15s\tremaining: 0us\n",
      "bestTest = 0.1494212142\n",
      "bestIteration = 999\n"
     ]
    },
    {
     "data": {
      "text/plain": "<catboost.core.CatBoostClassifier at 0x7fc58862d2d0>"
     },
     "execution_count": 83,
     "metadata": {},
     "output_type": "execute_result"
    }
   ],
   "source": [
    "model.fit(\n",
    "    train_data,\n",
    "    eval_set=test_data,\n",
    "    verbose=50,\n",
    ")"
   ],
   "metadata": {
    "collapsed": false,
    "ExecuteTime": {
     "end_time": "2023-11-15T20:27:43.437475977Z",
     "start_time": "2023-11-15T20:19:12.025802606Z"
    }
   },
   "id": "59e239923c38ae23"
  },
  {
   "cell_type": "code",
   "execution_count": 84,
   "outputs": [
    {
     "data": {
      "text/plain": "        Feature Id  Importances\n0           case_1    26.689132\n1            POS_0    18.114269\n2         number_1    14.181042\n3         gender_1    13.770026\n4           POS_-1     7.278599\n..             ...          ...\n100        tense_4     0.000000\n101         mood_4     0.000000\n102        voice_4     0.000000\n103  involvement_4     0.000000\n104       OFFSET_4     0.000000\n\n[105 rows x 2 columns]",
      "text/html": "<div>\n<style scoped>\n    .dataframe tbody tr th:only-of-type {\n        vertical-align: middle;\n    }\n\n    .dataframe tbody tr th {\n        vertical-align: top;\n    }\n\n    .dataframe thead th {\n        text-align: right;\n    }\n</style>\n<table border=\"1\" class=\"dataframe\">\n  <thead>\n    <tr style=\"text-align: right;\">\n      <th></th>\n      <th>Feature Id</th>\n      <th>Importances</th>\n    </tr>\n  </thead>\n  <tbody>\n    <tr>\n      <th>0</th>\n      <td>case_1</td>\n      <td>26.689132</td>\n    </tr>\n    <tr>\n      <th>1</th>\n      <td>POS_0</td>\n      <td>18.114269</td>\n    </tr>\n    <tr>\n      <th>2</th>\n      <td>number_1</td>\n      <td>14.181042</td>\n    </tr>\n    <tr>\n      <th>3</th>\n      <td>gender_1</td>\n      <td>13.770026</td>\n    </tr>\n    <tr>\n      <th>4</th>\n      <td>POS_-1</td>\n      <td>7.278599</td>\n    </tr>\n    <tr>\n      <th>...</th>\n      <td>...</td>\n      <td>...</td>\n    </tr>\n    <tr>\n      <th>100</th>\n      <td>tense_4</td>\n      <td>0.000000</td>\n    </tr>\n    <tr>\n      <th>101</th>\n      <td>mood_4</td>\n      <td>0.000000</td>\n    </tr>\n    <tr>\n      <th>102</th>\n      <td>voice_4</td>\n      <td>0.000000</td>\n    </tr>\n    <tr>\n      <th>103</th>\n      <td>involvement_4</td>\n      <td>0.000000</td>\n    </tr>\n    <tr>\n      <th>104</th>\n      <td>OFFSET_4</td>\n      <td>0.000000</td>\n    </tr>\n  </tbody>\n</table>\n<p>105 rows × 2 columns</p>\n</div>"
     },
     "execution_count": 84,
     "metadata": {},
     "output_type": "execute_result"
    }
   ],
   "source": [
    "model.get_feature_importance(prettified=True)"
   ],
   "metadata": {
    "collapsed": false,
    "ExecuteTime": {
     "end_time": "2023-11-15T20:27:48.604794862Z",
     "start_time": "2023-11-15T20:27:48.590790105Z"
    }
   },
   "id": "6c51f650c2128812"
  },
  {
   "cell_type": "code",
   "execution_count": 85,
   "outputs": [
    {
     "data": {
      "text/plain": "{'learn': {'F1:class=10': 0.8812829239781469,\n  'F1:class=12': 0.8812829239781469,\n  'F1:class=2': 0.8812829239781469,\n  'F1:class=0': 0.8812829239781469,\n  'F1:class=9': 0.8812829239781469,\n  'F1:class=11': 0.8812829239781469,\n  'F1:class=8': 0.8812829239781469,\n  'F1:class=3': 0.8812829239781469,\n  'F1:class=14': 0.8812829239781469,\n  'F1:class=15': 0.8812829239781469,\n  'F1:class=13': 0.8812829239781469,\n  'F1:class=7': 0.8812829239781469,\n  'F1:class=4': 0.8812829239781469,\n  'MultiCrossEntropy': 0.14861874275200204,\n  'F1:class=6': 0.8812829239781469,\n  'F1:class=5': 0.8812829239781469,\n  'F1:class=1': 0.8812829239781469},\n 'validation': {'F1:class=10': 0.8804150571155337,\n  'F1:class=12': 0.8804150571155337,\n  'F1:class=2': 0.8804150571155337,\n  'F1:class=0': 0.8804150571155337,\n  'F1:class=9': 0.8804150571155337,\n  'F1:class=11': 0.8804150571155337,\n  'F1:class=8': 0.8804150571155337,\n  'F1:class=3': 0.8804150571155337,\n  'F1:class=14': 0.8804150571155337,\n  'F1:class=15': 0.8804150571155337,\n  'F1:class=13': 0.8804150571155337,\n  'F1:class=7': 0.8804150571155337,\n  'F1:class=4': 0.8804150571155337,\n  'MultiCrossEntropy': 0.14942121417783427,\n  'F1:class=6': 0.8804150571155337,\n  'F1:class=5': 0.8804150571155337,\n  'F1:class=1': 0.8804150571155337}}"
     },
     "execution_count": 85,
     "metadata": {},
     "output_type": "execute_result"
    }
   ],
   "source": [
    "model.best_score_"
   ],
   "metadata": {
    "collapsed": false,
    "ExecuteTime": {
     "end_time": "2023-11-15T20:27:58.887504723Z",
     "start_time": "2023-11-15T20:27:58.884800512Z"
    }
   },
   "id": "bef11463467c2b15"
  },
  {
   "cell_type": "code",
   "execution_count": 121,
   "outputs": [
    {
     "name": "stdout",
     "output_type": "stream",
     "text": [
      "синий ['femn' 'sing' 'nomn' 'missing'] синяя\n",
      "красивая ['femn' 'sing' 'gent' 'missing'] красивой\n",
      "необычная ['missing' 'plur' None 'missing'] необычные\n"
     ]
    }
   ],
   "source": [],
   "metadata": {
    "collapsed": false,
    "ExecuteTime": {
     "end_time": "2023-11-15T20:40:44.987268838Z",
     "start_time": "2023-11-15T20:40:44.945366614Z"
    }
   },
   "id": "abe40e7d1fbc0026"
  },
  {
   "cell_type": "code",
   "execution_count": 125,
   "outputs": [],
   "source": [
    "import pymorphy2\n",
    "import numpy as np\n",
    "morph = pymorphy2.MorphAnalyzer(lang='ru')"
   ],
   "metadata": {
    "collapsed": false,
    "ExecuteTime": {
     "end_time": "2023-11-15T20:42:58.075302814Z",
     "start_time": "2023-11-15T20:42:58.039624285Z"
    }
   },
   "id": "1a95a048eaacf44"
  },
  {
   "cell_type": "code",
   "execution_count": 131,
   "outputs": [],
   "source": [
    "def get_adjectives_corrections(text: str) -> list[str | None]:\n",
    "    text_db = Separator.build_bundle(text, [PyMorphyFeaturizer()])\n",
    "    text_db.src = text_db.src.join(text_db.pymorphy, on='word_id')\n",
    "\n",
    "    text_df = text_db.src\n",
    "    text_df['suggestion'] = np.nan\n",
    "    \n",
    "    for idx in text_df.index[text_df.POS.eq('ADJS') | text_df.POS.eq('ADJF')]:\n",
    "        adj_window_data = {}\n",
    "        for offset in range(-WINDOW_SIZE, WINDOW_SIZE + 1):\n",
    "            if idx + offset not in text_df.index:\n",
    "                adj_window_data.update(get_empty_feats(offset))\n",
    "            else:\n",
    "                adj_window_data.update(get_offset_word_feats(text_df.loc[idx + offset], offset))\n",
    "    \n",
    "        # inp = ohe.transform()\n",
    "        inp = pd.DataFrame([adj_window_data])[input_features]\n",
    "        inp = inp.fillna('missing')\n",
    "    \n",
    "        pool_inp = catboost.Pool(inp, cat_features=input_features)\n",
    "        res = model.predict(pool_inp)\n",
    "        word = text_df.loc[idx].word\n",
    "        \n",
    "        parsed = morph.parse(word)[0]\n",
    "        res1 = ohe.inverse_transform(res)[0]\n",
    "        inflected = parsed.inflect(set(res1) - {'missing', None}).word\n",
    "        text_df.loc[idx, 'suggestion'] = inflected\n",
    "        # print(parsed.word, res1, inflected)\n",
    "    \n",
    "    return text_df.suggestion.tolist()"
   ],
   "metadata": {
    "collapsed": false,
    "ExecuteTime": {
     "end_time": "2023-11-15T20:44:05.140564701Z",
     "start_time": "2023-11-15T20:44:05.134884394Z"
    }
   },
   "id": "fa9c0a1e43630890"
  },
  {
   "cell_type": "code",
   "execution_count": 133,
   "outputs": [
    {
     "name": "stdout",
     "output_type": "stream",
     "text": [
      "CPU times: user 66.6 ms, sys: 150 µs, total: 66.7 ms\n",
      "Wall time: 63.8 ms\n"
     ]
    },
    {
     "data": {
      "text/plain": "['синяя', nan, nan, nan, 'красивой', nan, nan, nan, 'необычные', nan, nan]"
     },
     "execution_count": 133,
     "metadata": {},
     "output_type": "execute_result"
    }
   ],
   "source": [
    "%%time\n",
    "\n",
    "get_adjectives_corrections('Синий машина едет по красивая дороге и делает необычная вещи!')"
   ],
   "metadata": {
    "collapsed": false,
    "ExecuteTime": {
     "end_time": "2023-11-15T20:44:11.795255481Z",
     "start_time": "2023-11-15T20:44:11.729170632Z"
    }
   },
   "id": "add184b31eb8172c"
  },
  {
   "cell_type": "code",
   "execution_count": 135,
   "outputs": [],
   "source": [
    "model.save_model('catboost_adjectives.pth')"
   ],
   "metadata": {
    "collapsed": false,
    "ExecuteTime": {
     "end_time": "2023-11-15T20:46:13.237120030Z",
     "start_time": "2023-11-15T20:46:13.233250740Z"
    }
   },
   "id": "b92c9844dc5c7576"
  },
  {
   "cell_type": "code",
   "execution_count": null,
   "outputs": [],
   "source": [],
   "metadata": {
    "collapsed": false
   },
   "id": "7284c72467a7734c"
  }
 ],
 "metadata": {
  "kernelspec": {
   "display_name": "Python 3",
   "language": "python",
   "name": "python3"
  },
  "language_info": {
   "codemirror_mode": {
    "name": "ipython",
    "version": 2
   },
   "file_extension": ".py",
   "mimetype": "text/x-python",
   "name": "python",
   "nbconvert_exporter": "python",
   "pygments_lexer": "ipython2",
   "version": "2.7.6"
  }
 },
 "nbformat": 4,
 "nbformat_minor": 5
}
